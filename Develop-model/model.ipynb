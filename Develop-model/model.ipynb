{
 "cells": [
  {
   "cell_type": "markdown",
   "metadata": {},
   "source": [
    "## code for graphical confusion matrix "
   ]
  },
  {
   "cell_type": "code",
   "execution_count": 1,
   "metadata": {},
   "outputs": [],
   "source": [
    "def plot_confusion_matrix(cm,\n",
    "                          target_names,\n",
    "                          title='Confusion matrix',\n",
    "                          cmap=None,\n",
    "                          normalize=True):\n",
    "    \"\"\"\n",
    "    given a sklearn confusion matrix (cm), make a nice plot\n",
    "\n",
    "    Arguments\n",
    "    ---------\n",
    "    cm:           confusion matrix from sklearn.metrics.confusion_matrix\n",
    "\n",
    "    target_names: given classification classes such as [0, 1, 2]\n",
    "                  the class names, for example: ['high', 'medium', 'low']\n",
    "\n",
    "    title:        the text to display at the top of the matrix\n",
    "\n",
    "    cmap:         the gradient of the values displayed from matplotlib.pyplot.cm\n",
    "                  see http://matplotlib.org/examples/color/colormaps_reference.html\n",
    "                  plt.get_cmap('jet') or plt.cm.Blues\n",
    "\n",
    "    normalize:    If False, plot the raw numbers\n",
    "                  If True, plot the proportions\n",
    "\n",
    "    Usage\n",
    "    -----\n",
    "    plot_confusion_matrix(cm           = cm,                  # confusion matrix created by\n",
    "                                                              # sklearn.metrics.confusion_matrix\n",
    "                          normalize    = True,                # show proportions\n",
    "                          target_names = y_labels_vals,       # list of names of the classes\n",
    "                          title        = best_estimator_name) # title of graph\n",
    "\n",
    "    Citiation\n",
    "    ---------\n",
    "    http://scikit-learn.org/stable/auto_examples/model_selection/plot_confusion_matrix.html\n",
    "\n",
    "    \"\"\"\n",
    "    \n",
    "\n",
    "    accuracy = np.trace(cm) / float(np.sum(cm))\n",
    "    misclass = 1 - accuracy\n",
    "\n",
    "    if cmap is None:\n",
    "        cmap = plt.get_cmap('Blues')\n",
    "\n",
    "    plt.figure(figsize=(8, 6))\n",
    "    plt.imshow(cm, interpolation='nearest', cmap=cmap)\n",
    "    plt.title(title)\n",
    "    plt.colorbar()\n",
    "\n",
    "    if target_names is not None:\n",
    "        tick_marks = np.arange(len(target_names))\n",
    "        plt.xticks(tick_marks, target_names, rotation=45)\n",
    "        plt.yticks(tick_marks, target_names)\n",
    "\n",
    "    if normalize:\n",
    "        cm = cm.astype('float') / cm.sum(axis=1)[:, np.newaxis]\n",
    "\n",
    "\n",
    "    thresh = cm.max() / 1.5 if normalize else cm.max() / 2\n",
    "    for i, j in itertools.product(range(cm.shape[0]), range(cm.shape[1])):\n",
    "        if normalize:\n",
    "            plt.text(j, i, \"{:0.4f}\".format(cm[i, j]),\n",
    "                     horizontalalignment=\"center\",\n",
    "                     color=\"white\" if cm[i, j] > thresh else \"black\")\n",
    "        else:\n",
    "            plt.text(j, i, \"{:,}\".format(cm[i, j]),\n",
    "                     horizontalalignment=\"center\",\n",
    "                     color=\"white\" if cm[i, j] > thresh else \"black\")\n",
    "\n",
    "\n",
    "    plt.tight_layout()\n",
    "    plt.ylabel('True label')\n",
    "    plt.xlabel('Predicted label\\naccuracy={:0.4f}; misclass={:0.4f}'.format(accuracy, misclass))\n",
    "    plt.show()\n"
   ]
  },
  {
   "cell_type": "markdown",
   "metadata": {},
   "source": [
    "## importing packages"
   ]
  },
  {
   "cell_type": "code",
   "execution_count": 2,
   "metadata": {},
   "outputs": [
    {
     "name": "stderr",
     "output_type": "stream",
     "text": [
      "Using Theano backend.\n",
      "WARNING (theano.tensor.blas): Using NumPy C-API based implementation for BLAS functions.\n"
     ]
    }
   ],
   "source": [
    "import pandas as pd\n",
    "import numpy as np\n",
    "import matplotlib.pyplot as plt\n",
    "import scipy.fftpack\n",
    "from sklearn import preprocessing\n",
    "from sklearn.metrics import confusion_matrix, f1_score\n",
    "from sklearn.model_selection import train_test_split\n",
    "from sklearn.linear_model import LogisticRegression\n",
    "from sklearn.metrics import accuracy_score\n",
    "from sklearn.svm import SVC\n",
    "from sklearn.decomposition import PCA\n",
    "from sklearn.preprocessing import StandardScaler\n",
    "import keras\n",
    "from keras.models import Sequential\n",
    "from keras.layers import Dense, Dropout\n",
    "import itertools\n",
    "\n",
    "# pandas_entropy is a .py file tht calculates entropy\n",
    "#import pandas_entropy as pe\n",
    "\n",
    "#import plot_conf_mat as cnf"
   ]
  },
  {
   "cell_type": "markdown",
   "metadata": {},
   "source": [
    "## Loading Data"
   ]
  },
  {
   "cell_type": "code",
   "execution_count": 3,
   "metadata": {},
   "outputs": [
    {
     "data": {
      "text/html": [
       "<div>\n",
       "<style scoped>\n",
       "    .dataframe tbody tr th:only-of-type {\n",
       "        vertical-align: middle;\n",
       "    }\n",
       "\n",
       "    .dataframe tbody tr th {\n",
       "        vertical-align: top;\n",
       "    }\n",
       "\n",
       "    .dataframe thead th {\n",
       "        text-align: right;\n",
       "    }\n",
       "</style>\n",
       "<table border=\"1\" class=\"dataframe\">\n",
       "  <thead>\n",
       "    <tr style=\"text-align: right;\">\n",
       "      <th></th>\n",
       "      <th>timestamp</th>\n",
       "      <th>accx</th>\n",
       "      <th>accy</th>\n",
       "      <th>accz</th>\n",
       "      <th>gyrx</th>\n",
       "      <th>gyry</th>\n",
       "      <th>gyrz</th>\n",
       "      <th>longitude</th>\n",
       "      <th>latitude</th>\n",
       "      <th>speed</th>\n",
       "    </tr>\n",
       "  </thead>\n",
       "  <tbody>\n",
       "    <tr>\n",
       "      <th>0</th>\n",
       "      <td>152178985702</td>\n",
       "      <td>0.152901</td>\n",
       "      <td>-0.657606</td>\n",
       "      <td>9.569601</td>\n",
       "      <td>-0.002742</td>\n",
       "      <td>0.008070</td>\n",
       "      <td>-0.005377</td>\n",
       "      <td>77.643354</td>\n",
       "      <td>12.87931</td>\n",
       "      <td>0.0</td>\n",
       "    </tr>\n",
       "    <tr>\n",
       "      <th>1</th>\n",
       "      <td>152178985720</td>\n",
       "      <td>-0.444470</td>\n",
       "      <td>-0.501953</td>\n",
       "      <td>9.585513</td>\n",
       "      <td>0.000966</td>\n",
       "      <td>-0.007851</td>\n",
       "      <td>-0.005371</td>\n",
       "      <td>77.643354</td>\n",
       "      <td>12.87931</td>\n",
       "      <td>0.0</td>\n",
       "    </tr>\n",
       "    <tr>\n",
       "      <th>2</th>\n",
       "      <td>152178985742</td>\n",
       "      <td>-0.195615</td>\n",
       "      <td>-0.610109</td>\n",
       "      <td>10.012871</td>\n",
       "      <td>0.000354</td>\n",
       "      <td>-0.009804</td>\n",
       "      <td>-0.004395</td>\n",
       "      <td>77.643354</td>\n",
       "      <td>12.87931</td>\n",
       "      <td>0.0</td>\n",
       "    </tr>\n",
       "    <tr>\n",
       "      <th>3</th>\n",
       "      <td>152178985764</td>\n",
       "      <td>-0.310112</td>\n",
       "      <td>-0.708696</td>\n",
       "      <td>9.713529</td>\n",
       "      <td>0.000969</td>\n",
       "      <td>-0.009312</td>\n",
       "      <td>-0.004761</td>\n",
       "      <td>77.643354</td>\n",
       "      <td>12.87931</td>\n",
       "      <td>0.0</td>\n",
       "    </tr>\n",
       "    <tr>\n",
       "      <th>4</th>\n",
       "      <td>152178985784</td>\n",
       "      <td>-0.400679</td>\n",
       "      <td>-0.345822</td>\n",
       "      <td>10.250119</td>\n",
       "      <td>-0.000861</td>\n",
       "      <td>-0.003700</td>\n",
       "      <td>-0.004639</td>\n",
       "      <td>77.643354</td>\n",
       "      <td>12.87931</td>\n",
       "      <td>0.0</td>\n",
       "    </tr>\n",
       "  </tbody>\n",
       "</table>\n",
       "</div>"
      ],
      "text/plain": [
       "      timestamp      accx      accy       accz      gyrx      gyry      gyrz  \\\n",
       "0  152178985702  0.152901 -0.657606   9.569601 -0.002742  0.008070 -0.005377   \n",
       "1  152178985720 -0.444470 -0.501953   9.585513  0.000966 -0.007851 -0.005371   \n",
       "2  152178985742 -0.195615 -0.610109  10.012871  0.000354 -0.009804 -0.004395   \n",
       "3  152178985764 -0.310112 -0.708696   9.713529  0.000969 -0.009312 -0.004761   \n",
       "4  152178985784 -0.400679 -0.345822  10.250119 -0.000861 -0.003700 -0.004639   \n",
       "\n",
       "   longitude  latitude  speed  \n",
       "0  77.643354  12.87931    0.0  \n",
       "1  77.643354  12.87931    0.0  \n",
       "2  77.643354  12.87931    0.0  \n",
       "3  77.643354  12.87931    0.0  \n",
       "4  77.643354  12.87931    0.0  "
      ]
     },
     "execution_count": 3,
     "metadata": {},
     "output_type": "execute_result"
    }
   ],
   "source": [
    "df1 = pd.read_csv('./sensor_data/sensorData_23-03-2018_15217898569-12_55.txt')\n",
    "df2 = pd.read_csv('./sensor_data/sensorData_23-03-2018_15217899985-1_02.txt')\n",
    "df3 = pd.read_csv('./sensor_data/sensorData_23-03-2018_15217903881-1_06.txt')\n",
    "df4 = pd.read_csv('./sensor_data/sensorData_23-03-2018_15217906095-1_09.txt')\n",
    "df5 = pd.read_csv('./sensor_data/sensorData_23-03-2018_15217913809-1_24.txt')\n",
    "df6 = pd.read_csv('./sensor_data/sensorData_23-03-2018_15217883948-12_31.txt')\n",
    "df7 = pd.read_csv('./sensor_data/sensorData_23-03-2018_15217908058-1_13.txt')\n",
    "df8 = pd.read_csv('./sensor_data_old/sensorData_19-03-2018_15214527501_15-18.txt')\n",
    "df9 = pd.read_csv('./sensor_data_old/sensorData_19-03-2018_15214537070_15-34.txt')\n",
    "\n",
    "# skip below file : NaN problem with data\n",
    "#df10 = pd.read_csv('./sensor_data_old/sensorData_19-03-2018_15214540891_15-41.txt')\n",
    "\n",
    "df11 = pd.read_csv('./sensor_data_old/sensorData_19-03-2018_15214551353_15-58.txt')\n",
    "df12 = pd.read_csv('./sensor_data_old/sensorData_19-03-2018_15214560034_16-13.txt')\n",
    "df13 = pd.read_csv('./sensor_data_new/sensorData_04-04-2018_15228184860-10_53.txt')\n",
    "df14 = pd.read_csv('./sensor_data_new/sensorData_04-04-2018_15228194973-10_58.txt')\n",
    "df15 = pd.read_csv('./sensor_data_new/sensorData_04-04-2018_15228197814-11_02.txt')\n",
    "df16 = pd.read_csv('./sensor_data_new/sensorData_04-04-2018_15228200158-11_06.txt')\n",
    "df17 = pd.read_csv('./sensor_data_new/sensorData_04-04-2018_15228202727-11_14.txt')\n",
    "df18 = pd.read_csv('./sensor_data_new/sensorData_04-04-2018_15228207467-11_36.txt')\n",
    "df19 = pd.read_csv('./sensor_data_new/sensorData_04-04-2018_15228271593-1_24.txt')\n",
    "df20 = pd.read_csv('./sensor_data_new/sensorData_04-04-2018_15228285553-1_47.txt')\n",
    "\n",
    "\n",
    "# dataframes for pothole annotated files\n",
    "\n",
    "pdf1 = pd.read_csv('./potholes/sensorData_23-03-2018_15217898607-12_55.txt')\n",
    "pdf2 = pd.read_csv('./potholes/sensorData_23-03-2018_15217899997-1_02.txt')\n",
    "pdf3 = pd.read_csv('./potholes/sensorData_23-03-2018_15217903905-1_06.txt')\n",
    "pdf4 = pd.read_csv('./potholes/sensorData_23-03-2018_15217906130-1_09.txt')\n",
    "pdf5 = pd.read_csv('./potholes/sensorData_23-03-2018_15217914003-1_24.txt')\n",
    "pdf6 = pd.read_csv('./potholes/sensorData_23-03-2018_15217883957-12_31.txt')\n",
    "pdf7 = pd.read_csv('./potholes/sensorData_23-03-2018_15217908081-1_13.txt')\n",
    "pdf8 = pd.read_csv('./potholes_old/sensorData_19-03-2018_15214527532_15-18.txt')\n",
    "pdf9 = pd.read_csv('./potholes_old/sensorData_19-03-2018_15214537329_15-34.txt')\n",
    "\n",
    "# below file contains Nan values\n",
    "#pdf10 = pd.read_csv('./potholes_old/sensorData_19-03-2018_15214540946_15-41.txt')\n",
    "\n",
    "pdf11 = pd.read_csv('./potholes_old/sensorData_19-03-2018_15214551395_15-58.txt')\n",
    "pdf12 = pd.read_csv('./potholes_old/sensorData_19-03-2018_15214560096_16-13.txt')\n",
    "pdf13 = pd.read_csv('./potholes_new/sensorData_04-04-2018_15228184880-10_53.txt')\n",
    "pdf14 = pd.read_csv('./potholes_new/sensorData_04-04-2018_15228194989-10_58.txt')\n",
    "pdf15 = pd.read_csv('./potholes_new/sensorData_04-04-2018_15228197815-11_02.txt')\n",
    "pdf16 = pd.read_csv('./potholes_new/sensorData_04-04-2018_15228200151-11_06.txt')\n",
    "pdf17 = pd.read_csv('./potholes_new/sensorData_04-04-2018_15228202691-11_14.txt')\n",
    "pdf18 = pd.read_csv('./potholes_new/sensorData_04-04-2018_15228207479-11_36.txt')\n",
    "pdf19 = pd.read_csv('./potholes_new/sensorData_04-04-2018_15228271641-1_24.txt')\n",
    "\n",
    "pdf20 = pd.read_csv('./potholes_new/sensorData_04-04-2018_15228285574-1_47.txt')\n",
    "\n",
    "df1.head()"
   ]
  },
  {
   "cell_type": "code",
   "execution_count": 4,
   "metadata": {},
   "outputs": [],
   "source": [
    "#pe.ID3_entropies(df1)"
   ]
  },
  {
   "cell_type": "code",
   "execution_count": 5,
   "metadata": {},
   "outputs": [
    {
     "data": {
      "text/html": [
       "<div>\n",
       "<style scoped>\n",
       "    .dataframe tbody tr th:only-of-type {\n",
       "        vertical-align: middle;\n",
       "    }\n",
       "\n",
       "    .dataframe tbody tr th {\n",
       "        vertical-align: top;\n",
       "    }\n",
       "\n",
       "    .dataframe thead th {\n",
       "        text-align: right;\n",
       "    }\n",
       "</style>\n",
       "<table border=\"1\" class=\"dataframe\">\n",
       "  <thead>\n",
       "    <tr style=\"text-align: right;\">\n",
       "      <th></th>\n",
       "      <th>ts_start</th>\n",
       "      <th>ts_end</th>\n",
       "      <th>mean_ax</th>\n",
       "      <th>mean_ay</th>\n",
       "      <th>mean_az</th>\n",
       "      <th>mean_gx</th>\n",
       "      <th>mean_gy</th>\n",
       "      <th>mean_gz</th>\n",
       "      <th>sd_ax</th>\n",
       "      <th>sd_ay</th>\n",
       "      <th>...</th>\n",
       "      <th>adz</th>\n",
       "      <th>gdx</th>\n",
       "      <th>gdy</th>\n",
       "      <th>gdz</th>\n",
       "      <th>fft_ax</th>\n",
       "      <th>fft_ay</th>\n",
       "      <th>fft_az</th>\n",
       "      <th>sp_ax</th>\n",
       "      <th>sp_ay</th>\n",
       "      <th>sp_az</th>\n",
       "    </tr>\n",
       "  </thead>\n",
       "  <tbody>\n",
       "  </tbody>\n",
       "</table>\n",
       "<p>0 rows × 80 columns</p>\n",
       "</div>"
      ],
      "text/plain": [
       "Empty DataFrame\n",
       "Columns: [ts_start, ts_end, mean_ax, mean_ay, mean_az, mean_gx, mean_gy, mean_gz, sd_ax, sd_ay, sd_az, sd_gx, sd_gy, sd_gz, min_ax, min_ay, min_az, min_gx, min_gy, min_gz, max_ax, max_ay, max_az, max_gx, max_gy, max_gz, var_ax, var_ay, var_az, var_gx, var_gy, var_gz, med_ax, med_ay, med_az, med_gx, med_gy, med_gz, quant1_ax, quant1_ay, quant1_az, quant1_gx, quant1_gy, quant1_gz, quant2_ax, quant2_ay, quant2_az, quant2_gx, quant2_gy, quant2_gz, quant3_ax, quant3_ay, quant3_az, quant3_gx, quant3_gy, quant3_gz, mad_ax, mad_ay, mad_az, mad_gx, mad_gy, mad_gz, skew_ax, skew_ay, skew_az, skew_gx, skew_gy, skew_gz, adx, ady, adz, gdx, gdy, gdz, fft_ax, fft_ay, fft_az, sp_ax, sp_ay, sp_az]\n",
       "Index: []\n",
       "\n",
       "[0 rows x 80 columns]"
      ]
     },
     "execution_count": 5,
     "metadata": {},
     "output_type": "execute_result"
    }
   ],
   "source": [
    "df_main = pd.read_csv('./features.txt')\n",
    "df_main"
   ]
  },
  {
   "cell_type": "markdown",
   "metadata": {},
   "source": [
    "## feature extraction "
   ]
  },
  {
   "cell_type": "code",
   "execution_count": 6,
   "metadata": {},
   "outputs": [
    {
     "name": "stdout",
     "output_type": "stream",
     "text": [
      "done\n"
     ]
    }
   ],
   "source": [
    "# this is to calcualte features by aggregating 10 data pts\n",
    "df_index =0\n",
    "\n",
    "for j in range(0,19):\n",
    "    \n",
    "    if(df_index == 0):\n",
    "        df = df1\n",
    "        pdf = pdf1\n",
    "    elif(df_index == 1):\n",
    "        df = df2\n",
    "        pdf = pdf2\n",
    "    elif(df_index == 2):\n",
    "        df = df3\n",
    "        pdf = pdf3\n",
    "    elif(df_index == 3):\n",
    "        df = df4\n",
    "        pdf = pdf4\n",
    "    elif(df_index == 4):\n",
    "        df = df5\n",
    "        pdf = pdf5\n",
    "    elif(df_index == 5):\n",
    "        df = df6\n",
    "        pdf = pdf6\n",
    "    elif(df_index == 6):\n",
    "        df = df7\n",
    "        pdf = pdf7\n",
    "    elif(df_index == 7):\n",
    "        df = df8\n",
    "        pdf = pdf8\n",
    "    elif(df_index == 8):\n",
    "        df = df9\n",
    "        pdf = pdf9\n",
    "    \n",
    "    elif(df_index == 9):\n",
    "        df = df11\n",
    "        pdf = pdf11\n",
    "    elif(df_index == 10):\n",
    "        df = df12\n",
    "        pdf = pdf12\n",
    "    elif(df_index == 11):\n",
    "        df = df13\n",
    "        pdf = pdf13\n",
    "    elif(df_index == 12):\n",
    "        df = df14\n",
    "        pdf = pdf14\n",
    "    elif(df_index == 13):\n",
    "        df = df15\n",
    "        pdf = pdf15\n",
    "    elif(df_index == 14):\n",
    "        df = df16\n",
    "        pdf = pdf16\n",
    "    elif(df_index == 15):\n",
    "        df = df17\n",
    "        pdf = pdf17\n",
    "    elif(df_index == 16):\n",
    "        df = df18\n",
    "        pdf = pdf18\n",
    "    elif(df_index == 17):\n",
    "        df = df19\n",
    "        pdf = pdf19\n",
    "    elif(df_index == 18):\n",
    "        df = df20\n",
    "        pdf = pdf20\n",
    "    else:      # skipping 10 no file bcz of NaN error for now \n",
    "        df = df10\n",
    "        pdf = pdf10\n",
    "    \n",
    "    df_index += 1\n",
    "    count = 0\n",
    "    k = 0\n",
    "    \n",
    "    for i in range(1,len(df),10):    # step size is 10 means aggregrating 10 data pts means 1 second data\n",
    "        if(i+9 >= len(df)):\n",
    "            break\n",
    "        #print(i)\n",
    "        dt = df[i-1:i+10]      # chunking the given dataframe into smaller dataframe containing 10 pts\n",
    "        start = dt.timestamp[i-1]\n",
    "        end = dt.timestamp[i+9]\n",
    "        \n",
    "   \n",
    "#time domain features : mean , max , min , var , std dev, median , interquartile range,\n",
    "#                       mean of abs deviation , skewness < left : root mean sq error , entropy       \n",
    "        # mean \n",
    "        a = dt.mean()      # will give an array of mean of columns of dt\n",
    "        mean_ax = a[1]\n",
    "        mean_ay = a[2]\n",
    "        mean_az = a[3]\n",
    "        \n",
    "        mean_gx = a[4]\n",
    "        mean_gy = a[5]\n",
    "        mean_gz = a[6]\n",
    "       \n",
    "        # min\n",
    "        a = dt.min()\n",
    "        min_ax = a[1]\n",
    "        min_ay = a[2]\n",
    "        min_az = a[3]\n",
    "        \n",
    "        min_gx = a[4]\n",
    "        min_gy = a[5]\n",
    "        min_gz = a[6]\n",
    "\n",
    "        # max\n",
    "        a = dt.max()\n",
    "        max_ax = a[1]\n",
    "        max_ay = a[2]\n",
    "        max_az = a[3]\n",
    "        \n",
    "        max_gx = a[4]\n",
    "        max_gy = a[5]\n",
    "        max_gz = a[6]\n",
    "\n",
    "        # std dev\n",
    "        a = dt.std()\n",
    "        sd_ax = a[1]\n",
    "        sd_ay = a[2]\n",
    "        sd_az = a[3]\n",
    "\n",
    "        sd_gx = a[4]\n",
    "        sd_gy = a[5]\n",
    "        sd_gz = a[6]\n",
    "\n",
    "        # variance\n",
    "        a = dt.var()\n",
    "        var_ax = a[1]\n",
    "        var_ay = a[2]\n",
    "        var_az = a[3]\n",
    "        \n",
    "        var_gx = a[4]\n",
    "        var_gy = a[5]\n",
    "        var_gz = a[6]\n",
    "        \n",
    "        #adding max-min\n",
    "        mm_x = max_ax - min_ax\n",
    "        mm_y = max_ay - min_ay\n",
    "        mm_z = max_az - min_az\n",
    "       \n",
    "\n",
    "        # median coln wise of acc data\n",
    "        a = dt.median()\n",
    "        med_ax = a[1]\n",
    "        med_ay = a[2]\n",
    "        med_az = a[3]\n",
    "        \n",
    "        med_gx = a[4]\n",
    "        med_gy = a[5]\n",
    "        med_gz = a[6]\n",
    "        \n",
    "        # entropy coln wise of acc data\n",
    "        \n",
    "        # interquantile ranges\n",
    "        a = dt.quantile(.25)\n",
    "        quant1_ax = a[1]\n",
    "        quant1_ay = a[2]\n",
    "        quant1_az = a[3]\n",
    "\n",
    "        quant1_gx = a[4]\n",
    "        quant1_gy = a[5]\n",
    "        quant1_gz = a[6]\n",
    "\n",
    "        a = dt.quantile(.5)\n",
    "        quant2_ax = a[1]\n",
    "        quant2_ay = a[2]\n",
    "        quant2_az = a[3]\n",
    "    \n",
    "        quant2_gx = a[4]\n",
    "        quant2_gy = a[5]\n",
    "        quant2_gz = a[6]\n",
    "    \n",
    "        a = dt.quantile(.75)\n",
    "        quant3_ax = a[1]\n",
    "        quant3_ay = a[2]\n",
    "        quant3_az = a[3]\n",
    "\n",
    "        quant3_gx = a[4]\n",
    "        quant3_gy = a[5]\n",
    "        quant3_gz = a[6]\n",
    "\n",
    "        \n",
    "        # mean absolute deviation\n",
    "        a = dt.mad()\n",
    "        mad_ax = a[1]\n",
    "        mad_ay = a[2]\n",
    "        mad_az = a[3]\n",
    "        \n",
    "        mad_gx = a[4]\n",
    "        mad_gy = a[5]\n",
    "        mad_gz = a[6]\n",
    "        \n",
    "        # skewness \n",
    "        a = dt.skew()\n",
    "        skew_ax = a[1]\n",
    "        skew_ay = a[2]\n",
    "        skew_az = a[3]\n",
    "    \n",
    "        skew_gx = a[4]\n",
    "        skew_gy = a[5]\n",
    "        skew_gz = a[6]\n",
    " \n",
    "\n",
    "# gradient based features : gradient with respect to timestamp\n",
    "\n",
    "        #taking gradients\n",
    "        arx = dt['accx']\n",
    "        ary = dt['accy']\n",
    "        arz = dt['accz']\n",
    "\n",
    "        grx = dt['gyrx']\n",
    "        gry = dt['gyry']\n",
    "        grz = dt['gyrz']\n",
    "        \n",
    "        tm = dt['timestamp']\n",
    "        adx = np.gradient(arx, tm).max()\n",
    "        ady = np.gradient(ary, tm).max()\n",
    "        adz = np.gradient(arz, tm).max()\n",
    "        gdx = np.gradient(grx, tm).max()\n",
    "        gdy = np.gradient(gry, tm).max()\n",
    "        gdz = np.gradient(grz, tm).max()\n",
    "\n",
    "        \n",
    "# frequency domain features : fft , spectral energy ,   \n",
    "        \n",
    "        #taking fourier transforms\n",
    "        ft = scipy.fftpack.fft(dt)\n",
    "        \n",
    "        fft_ax = ft[1].max().imag\n",
    "        fft_ay = ft[2].max().imag\n",
    "        fft_az = ft[3].max().imag\n",
    "        \n",
    "        #getting spectral energy\n",
    "        sp_ax = np.mean(np.square(ft[1].real) + np.square(ft[1].imag))\n",
    "        sp_ay = np.mean(np.square(ft[2].real) + np.square(ft[2].imag))\n",
    "        sp_az = np.mean(np.square(ft[3].real) + np.square(ft[3].imag))\n",
    "        \n",
    "        file_id = j + 1\n",
    "        \n",
    "        '''   \n",
    "        #adding label\n",
    "        if(k >= len(pdf)):\n",
    "            break        \n",
    "        \n",
    "        if(pdf['timestamp'][k] > start and pdf['timestamp'][k] <= end ):\n",
    "            \n",
    "            label = 1\n",
    "            k = k + 1\n",
    "            #print(\"haha\")\n",
    "            \n",
    "            if(k >= len(pdf)):\n",
    "                break\n",
    "            while(pdf['timestamp'][k] > start and pdf['timestamp'][k] <= end):\n",
    "                k = k + 1\n",
    "                if(k >= len(pdf)):\n",
    "                        break\n",
    "        else:\n",
    "            label = 0\n",
    "        '''\n",
    "        \n",
    "        if(k >= len(pdf)):\n",
    "            break        \n",
    "        \n",
    "        if(pdf['timestamp'][k] > start and pdf['timestamp'][k] <= end ):\n",
    "            if(pdf['type'][k] == \"pothole\"):\n",
    "                label = 1   # 1 means pothole\n",
    "            else:\n",
    "                label = 2   # 2 means others\n",
    "                \n",
    "            k = k + 1\n",
    "            #print(\"haha\")\n",
    "            \n",
    "            if(k >= len(pdf)):\n",
    "                break\n",
    "            while(pdf['timestamp'][k] > start and pdf['timestamp'][k] <= end):\n",
    "                k = k + 1\n",
    "                if(k >= len(pdf)):\n",
    "                        break\n",
    "        else:\n",
    "            label = 0\n",
    "    \n",
    "    \n",
    "        df_temp = pd.DataFrame([[file_id,start,end,mean_ax,mean_ay,mean_az,mean_gx,mean_gy,mean_gz,sd_ax,\n",
    "                                 sd_ay,sd_az,sd_gx,sd_gy,sd_gz,min_ax,min_ay,min_az,min_gx,min_gy,min_gz,\n",
    "                                 max_ax,max_ay,max_az,max_gx,max_gy,max_gz,var_ax,var_ay,var_az,var_gx,var_gy,\n",
    "                                 var_gz,med_ax,med_ay,med_az,med_gx,med_gy,med_gz,quant1_ax,quant1_ay,quant1_az\n",
    "                                 ,quant1_gx,quant1_gy,quant1_gz,quant2_ax,quant2_ay,quant2_az,quant2_gx,\n",
    "                                 quant2_gy,quant2_gz,quant3_ax,quant3_ay,quant3_az,quant3_gx,quant3_gy,\n",
    "                                 quant3_gz,mad_ax,mad_ay,mad_az,mad_gx,mad_gy,mad_gz,skew_ax,skew_ay,\n",
    "                                 skew_az,skew_gx,skew_gy,skew_gz,adx,ady,adz,gdx,gdy,gdz,fft_ax,fft_ay,fft_az,\n",
    "                                 sp_ax,sp_ay,sp_az,label]], \n",
    "\n",
    "                              columns = ('file_id','ts_start','ts_end','mean_ax','mean_ay','mean_az','mean_gx','mean_gy',\n",
    "                                         'mean_gz','sd_ax','sd_ay','sd_az','sd_gx','sd_gy','sd_gz','min_ax','min_ay'\n",
    "                                         ,'min_az',\n",
    "                                         'min_gx','min_gy','min_gz','max_ax','max_ay','max_az','max_gx','max_gy','max_gz',\n",
    "                                         'var_ax','var_ay','var_az','var_gx','var_gy','var_gz','med_ax','med_ay'\n",
    "                                         ,'med_az','med_gx',\n",
    "                                         'med_gy','med_gz','quant1_ax','quant1_ay','quant1_az','quant1_gx',\n",
    "                                         'quant1_gy',\n",
    "                                         'quant1_gz','quant2_ax','quant2_ay','quant2_az','quant2_gx','quant2_gy'\n",
    "                                         ,\n",
    "                                         'quant2_gz','quant3_ax','quant3_ay','quant3_az','quant3_gx','quant3_gy',\n",
    "                                         'quant3_gz',\n",
    "                                         'mad_ax','mad_ay','mad_az','mad_gx','mad_gy','mad_gz','skew_ax',\n",
    "                                         'skew_ay','skew_az',\n",
    "                                         'skew_gx','skew_gy','skew_gz','adx','ady','adz','gdx','gdy','gdz'\n",
    "                                         ,'fft_ax','fft_ay','fft_az',\n",
    "                                         'sp_ax','sp_ay','sp_az','label'))\n",
    "        \n",
    "        df_main = df_main.append(df_temp,sort=False)\n",
    "        #count = count + 1\n",
    "        #i = i+20\n",
    "print(\"done\")"
   ]
  },
  {
   "cell_type": "markdown",
   "metadata": {},
   "source": [
    "### Imbalanced Data"
   ]
  },
  {
   "cell_type": "code",
   "execution_count": 7,
   "metadata": {},
   "outputs": [
    {
     "data": {
      "text/plain": [
       "0.0    3155\n",
       "1.0     182\n",
       "2.0     143\n",
       "Name: label, dtype: int64"
      ]
     },
     "execution_count": 7,
     "metadata": {},
     "output_type": "execute_result"
    }
   ],
   "source": [
    "df_main['label'].value_counts()"
   ]
  },
  {
   "cell_type": "code",
   "execution_count": 8,
   "metadata": {},
   "outputs": [
    {
     "name": "stdout",
     "output_type": "stream",
     "text": [
      "(3480, 82)\n"
     ]
    },
    {
     "data": {
      "text/html": [
       "<div>\n",
       "<style scoped>\n",
       "    .dataframe tbody tr th:only-of-type {\n",
       "        vertical-align: middle;\n",
       "    }\n",
       "\n",
       "    .dataframe tbody tr th {\n",
       "        vertical-align: top;\n",
       "    }\n",
       "\n",
       "    .dataframe thead th {\n",
       "        text-align: right;\n",
       "    }\n",
       "</style>\n",
       "<table border=\"1\" class=\"dataframe\">\n",
       "  <thead>\n",
       "    <tr style=\"text-align: right;\">\n",
       "      <th></th>\n",
       "      <th>ts_start</th>\n",
       "      <th>ts_end</th>\n",
       "      <th>mean_ax</th>\n",
       "      <th>mean_ay</th>\n",
       "      <th>mean_az</th>\n",
       "      <th>mean_gx</th>\n",
       "      <th>mean_gy</th>\n",
       "      <th>mean_gz</th>\n",
       "      <th>sd_ax</th>\n",
       "      <th>sd_ay</th>\n",
       "      <th>...</th>\n",
       "      <th>gdy</th>\n",
       "      <th>gdz</th>\n",
       "      <th>fft_ax</th>\n",
       "      <th>fft_ay</th>\n",
       "      <th>fft_az</th>\n",
       "      <th>sp_ax</th>\n",
       "      <th>sp_ay</th>\n",
       "      <th>sp_az</th>\n",
       "      <th>file_id</th>\n",
       "      <th>label</th>\n",
       "    </tr>\n",
       "  </thead>\n",
       "  <tbody>\n",
       "    <tr>\n",
       "      <th>0</th>\n",
       "      <td>152178985702</td>\n",
       "      <td>152178985912</td>\n",
       "      <td>-0.333256</td>\n",
       "      <td>-0.529265</td>\n",
       "      <td>9.790426</td>\n",
       "      <td>0.001520</td>\n",
       "      <td>-0.000742</td>\n",
       "      <td>-0.004106</td>\n",
       "      <td>0.242658</td>\n",
       "      <td>0.162682</td>\n",
       "      <td>...</td>\n",
       "      <td>0.000820</td>\n",
       "      <td>0.000180</td>\n",
       "      <td>0.0</td>\n",
       "      <td>0.0</td>\n",
       "      <td>0.0</td>\n",
       "      <td>2.315844e+22</td>\n",
       "      <td>2.315844e+22</td>\n",
       "      <td>2.315844e+22</td>\n",
       "      <td>1.0</td>\n",
       "      <td>0.0</td>\n",
       "    </tr>\n",
       "    <tr>\n",
       "      <th>0</th>\n",
       "      <td>152178985912</td>\n",
       "      <td>152178986124</td>\n",
       "      <td>-0.422345</td>\n",
       "      <td>-0.421185</td>\n",
       "      <td>9.919289</td>\n",
       "      <td>0.005632</td>\n",
       "      <td>-0.011685</td>\n",
       "      <td>-0.034437</td>\n",
       "      <td>0.254251</td>\n",
       "      <td>0.158947</td>\n",
       "      <td>...</td>\n",
       "      <td>0.001123</td>\n",
       "      <td>0.003850</td>\n",
       "      <td>0.0</td>\n",
       "      <td>0.0</td>\n",
       "      <td>0.0</td>\n",
       "      <td>2.315844e+22</td>\n",
       "      <td>2.315844e+22</td>\n",
       "      <td>2.315844e+22</td>\n",
       "      <td>1.0</td>\n",
       "      <td>0.0</td>\n",
       "    </tr>\n",
       "    <tr>\n",
       "      <th>0</th>\n",
       "      <td>152178986124</td>\n",
       "      <td>152178986337</td>\n",
       "      <td>-0.312917</td>\n",
       "      <td>-0.081383</td>\n",
       "      <td>9.855358</td>\n",
       "      <td>0.006088</td>\n",
       "      <td>-0.000170</td>\n",
       "      <td>-0.020531</td>\n",
       "      <td>0.279257</td>\n",
       "      <td>0.514140</td>\n",
       "      <td>...</td>\n",
       "      <td>0.000809</td>\n",
       "      <td>0.000000</td>\n",
       "      <td>0.0</td>\n",
       "      <td>0.0</td>\n",
       "      <td>0.0</td>\n",
       "      <td>2.315844e+22</td>\n",
       "      <td>2.315844e+22</td>\n",
       "      <td>2.315844e+22</td>\n",
       "      <td>1.0</td>\n",
       "      <td>0.0</td>\n",
       "    </tr>\n",
       "    <tr>\n",
       "      <th>0</th>\n",
       "      <td>152178986337</td>\n",
       "      <td>152178986549</td>\n",
       "      <td>-0.374978</td>\n",
       "      <td>0.672824</td>\n",
       "      <td>9.570090</td>\n",
       "      <td>0.008233</td>\n",
       "      <td>-0.016506</td>\n",
       "      <td>-0.037798</td>\n",
       "      <td>0.235341</td>\n",
       "      <td>0.213451</td>\n",
       "      <td>...</td>\n",
       "      <td>0.002114</td>\n",
       "      <td>0.005685</td>\n",
       "      <td>0.0</td>\n",
       "      <td>0.0</td>\n",
       "      <td>0.0</td>\n",
       "      <td>2.315844e+22</td>\n",
       "      <td>2.315844e+22</td>\n",
       "      <td>2.315844e+22</td>\n",
       "      <td>1.0</td>\n",
       "      <td>0.0</td>\n",
       "    </tr>\n",
       "    <tr>\n",
       "      <th>0</th>\n",
       "      <td>152178986549</td>\n",
       "      <td>152178986762</td>\n",
       "      <td>-0.313581</td>\n",
       "      <td>0.429496</td>\n",
       "      <td>9.818923</td>\n",
       "      <td>0.000324</td>\n",
       "      <td>-0.010486</td>\n",
       "      <td>-0.039492</td>\n",
       "      <td>0.153429</td>\n",
       "      <td>0.272872</td>\n",
       "      <td>...</td>\n",
       "      <td>0.001165</td>\n",
       "      <td>0.003677</td>\n",
       "      <td>0.0</td>\n",
       "      <td>0.0</td>\n",
       "      <td>0.0</td>\n",
       "      <td>2.315844e+22</td>\n",
       "      <td>2.315844e+22</td>\n",
       "      <td>2.315844e+22</td>\n",
       "      <td>1.0</td>\n",
       "      <td>0.0</td>\n",
       "    </tr>\n",
       "  </tbody>\n",
       "</table>\n",
       "<p>5 rows × 82 columns</p>\n",
       "</div>"
      ],
      "text/plain": [
       "       ts_start        ts_end   mean_ax   mean_ay   mean_az   mean_gx  \\\n",
       "0  152178985702  152178985912 -0.333256 -0.529265  9.790426  0.001520   \n",
       "0  152178985912  152178986124 -0.422345 -0.421185  9.919289  0.005632   \n",
       "0  152178986124  152178986337 -0.312917 -0.081383  9.855358  0.006088   \n",
       "0  152178986337  152178986549 -0.374978  0.672824  9.570090  0.008233   \n",
       "0  152178986549  152178986762 -0.313581  0.429496  9.818923  0.000324   \n",
       "\n",
       "    mean_gy   mean_gz     sd_ax     sd_ay  ...       gdy       gdz  fft_ax  \\\n",
       "0 -0.000742 -0.004106  0.242658  0.162682  ...  0.000820  0.000180     0.0   \n",
       "0 -0.011685 -0.034437  0.254251  0.158947  ...  0.001123  0.003850     0.0   \n",
       "0 -0.000170 -0.020531  0.279257  0.514140  ...  0.000809  0.000000     0.0   \n",
       "0 -0.016506 -0.037798  0.235341  0.213451  ...  0.002114  0.005685     0.0   \n",
       "0 -0.010486 -0.039492  0.153429  0.272872  ...  0.001165  0.003677     0.0   \n",
       "\n",
       "   fft_ay  fft_az         sp_ax         sp_ay         sp_az  file_id  label  \n",
       "0     0.0     0.0  2.315844e+22  2.315844e+22  2.315844e+22      1.0    0.0  \n",
       "0     0.0     0.0  2.315844e+22  2.315844e+22  2.315844e+22      1.0    0.0  \n",
       "0     0.0     0.0  2.315844e+22  2.315844e+22  2.315844e+22      1.0    0.0  \n",
       "0     0.0     0.0  2.315844e+22  2.315844e+22  2.315844e+22      1.0    0.0  \n",
       "0     0.0     0.0  2.315844e+22  2.315844e+22  2.315844e+22      1.0    0.0  \n",
       "\n",
       "[5 rows x 82 columns]"
      ]
     },
     "execution_count": 8,
     "metadata": {},
     "output_type": "execute_result"
    }
   ],
   "source": [
    "print(df_main.shape)\n",
    "df_main.head()\n",
    "#df_main['file_id'].unique() "
   ]
  },
  {
   "cell_type": "code",
   "execution_count": 9,
   "metadata": {},
   "outputs": [
    {
     "data": {
      "text/html": [
       "<div>\n",
       "<style scoped>\n",
       "    .dataframe tbody tr th:only-of-type {\n",
       "        vertical-align: middle;\n",
       "    }\n",
       "\n",
       "    .dataframe tbody tr th {\n",
       "        vertical-align: top;\n",
       "    }\n",
       "\n",
       "    .dataframe thead th {\n",
       "        text-align: right;\n",
       "    }\n",
       "</style>\n",
       "<table border=\"1\" class=\"dataframe\">\n",
       "  <thead>\n",
       "    <tr style=\"text-align: right;\">\n",
       "      <th></th>\n",
       "      <th>mean_ax</th>\n",
       "      <th>mean_ay</th>\n",
       "      <th>mean_az</th>\n",
       "      <th>mean_gx</th>\n",
       "      <th>mean_gy</th>\n",
       "      <th>mean_gz</th>\n",
       "      <th>sd_ax</th>\n",
       "      <th>sd_ay</th>\n",
       "      <th>sd_az</th>\n",
       "      <th>sd_gx</th>\n",
       "      <th>...</th>\n",
       "      <th>fft_ax</th>\n",
       "      <th>fft_ay</th>\n",
       "      <th>fft_az</th>\n",
       "      <th>sp_ax</th>\n",
       "      <th>sp_ay</th>\n",
       "      <th>sp_az</th>\n",
       "      <th>ts_start</th>\n",
       "      <th>ts_end</th>\n",
       "      <th>label</th>\n",
       "      <th>file_id</th>\n",
       "    </tr>\n",
       "  </thead>\n",
       "  <tbody>\n",
       "    <tr>\n",
       "      <th>0</th>\n",
       "      <td>-0.333256</td>\n",
       "      <td>-0.529265</td>\n",
       "      <td>9.790426</td>\n",
       "      <td>0.001520</td>\n",
       "      <td>-0.000742</td>\n",
       "      <td>-0.004106</td>\n",
       "      <td>0.242658</td>\n",
       "      <td>0.162682</td>\n",
       "      <td>0.286165</td>\n",
       "      <td>0.002502</td>\n",
       "      <td>...</td>\n",
       "      <td>0.0</td>\n",
       "      <td>0.0</td>\n",
       "      <td>0.0</td>\n",
       "      <td>2.315844e+22</td>\n",
       "      <td>2.315844e+22</td>\n",
       "      <td>2.315844e+22</td>\n",
       "      <td>152178985702</td>\n",
       "      <td>152178985912</td>\n",
       "      <td>0.0</td>\n",
       "      <td>1.0</td>\n",
       "    </tr>\n",
       "    <tr>\n",
       "      <th>0</th>\n",
       "      <td>-0.422345</td>\n",
       "      <td>-0.421185</td>\n",
       "      <td>9.919289</td>\n",
       "      <td>0.005632</td>\n",
       "      <td>-0.011685</td>\n",
       "      <td>-0.034437</td>\n",
       "      <td>0.254251</td>\n",
       "      <td>0.158947</td>\n",
       "      <td>0.201366</td>\n",
       "      <td>0.007812</td>\n",
       "      <td>...</td>\n",
       "      <td>0.0</td>\n",
       "      <td>0.0</td>\n",
       "      <td>0.0</td>\n",
       "      <td>2.315844e+22</td>\n",
       "      <td>2.315844e+22</td>\n",
       "      <td>2.315844e+22</td>\n",
       "      <td>152178985912</td>\n",
       "      <td>152178986124</td>\n",
       "      <td>0.0</td>\n",
       "      <td>1.0</td>\n",
       "    </tr>\n",
       "    <tr>\n",
       "      <th>0</th>\n",
       "      <td>-0.312917</td>\n",
       "      <td>-0.081383</td>\n",
       "      <td>9.855358</td>\n",
       "      <td>0.006088</td>\n",
       "      <td>-0.000170</td>\n",
       "      <td>-0.020531</td>\n",
       "      <td>0.279257</td>\n",
       "      <td>0.514140</td>\n",
       "      <td>0.223400</td>\n",
       "      <td>0.006141</td>\n",
       "      <td>...</td>\n",
       "      <td>0.0</td>\n",
       "      <td>0.0</td>\n",
       "      <td>0.0</td>\n",
       "      <td>2.315844e+22</td>\n",
       "      <td>2.315844e+22</td>\n",
       "      <td>2.315844e+22</td>\n",
       "      <td>152178986124</td>\n",
       "      <td>152178986337</td>\n",
       "      <td>0.0</td>\n",
       "      <td>1.0</td>\n",
       "    </tr>\n",
       "    <tr>\n",
       "      <th>0</th>\n",
       "      <td>-0.374978</td>\n",
       "      <td>0.672824</td>\n",
       "      <td>9.570090</td>\n",
       "      <td>0.008233</td>\n",
       "      <td>-0.016506</td>\n",
       "      <td>-0.037798</td>\n",
       "      <td>0.235341</td>\n",
       "      <td>0.213451</td>\n",
       "      <td>0.271166</td>\n",
       "      <td>0.013928</td>\n",
       "      <td>...</td>\n",
       "      <td>0.0</td>\n",
       "      <td>0.0</td>\n",
       "      <td>0.0</td>\n",
       "      <td>2.315844e+22</td>\n",
       "      <td>2.315844e+22</td>\n",
       "      <td>2.315844e+22</td>\n",
       "      <td>152178986337</td>\n",
       "      <td>152178986549</td>\n",
       "      <td>0.0</td>\n",
       "      <td>1.0</td>\n",
       "    </tr>\n",
       "    <tr>\n",
       "      <th>0</th>\n",
       "      <td>-0.313581</td>\n",
       "      <td>0.429496</td>\n",
       "      <td>9.818923</td>\n",
       "      <td>0.000324</td>\n",
       "      <td>-0.010486</td>\n",
       "      <td>-0.039492</td>\n",
       "      <td>0.153429</td>\n",
       "      <td>0.272872</td>\n",
       "      <td>0.344815</td>\n",
       "      <td>0.010959</td>\n",
       "      <td>...</td>\n",
       "      <td>0.0</td>\n",
       "      <td>0.0</td>\n",
       "      <td>0.0</td>\n",
       "      <td>2.315844e+22</td>\n",
       "      <td>2.315844e+22</td>\n",
       "      <td>2.315844e+22</td>\n",
       "      <td>152178986549</td>\n",
       "      <td>152178986762</td>\n",
       "      <td>0.0</td>\n",
       "      <td>1.0</td>\n",
       "    </tr>\n",
       "  </tbody>\n",
       "</table>\n",
       "<p>5 rows × 82 columns</p>\n",
       "</div>"
      ],
      "text/plain": [
       "    mean_ax   mean_ay   mean_az   mean_gx   mean_gy   mean_gz     sd_ax  \\\n",
       "0 -0.333256 -0.529265  9.790426  0.001520 -0.000742 -0.004106  0.242658   \n",
       "0 -0.422345 -0.421185  9.919289  0.005632 -0.011685 -0.034437  0.254251   \n",
       "0 -0.312917 -0.081383  9.855358  0.006088 -0.000170 -0.020531  0.279257   \n",
       "0 -0.374978  0.672824  9.570090  0.008233 -0.016506 -0.037798  0.235341   \n",
       "0 -0.313581  0.429496  9.818923  0.000324 -0.010486 -0.039492  0.153429   \n",
       "\n",
       "      sd_ay     sd_az     sd_gx  ...  fft_ax  fft_ay  fft_az         sp_ax  \\\n",
       "0  0.162682  0.286165  0.002502  ...     0.0     0.0     0.0  2.315844e+22   \n",
       "0  0.158947  0.201366  0.007812  ...     0.0     0.0     0.0  2.315844e+22   \n",
       "0  0.514140  0.223400  0.006141  ...     0.0     0.0     0.0  2.315844e+22   \n",
       "0  0.213451  0.271166  0.013928  ...     0.0     0.0     0.0  2.315844e+22   \n",
       "0  0.272872  0.344815  0.010959  ...     0.0     0.0     0.0  2.315844e+22   \n",
       "\n",
       "          sp_ay         sp_az      ts_start        ts_end  label  file_id  \n",
       "0  2.315844e+22  2.315844e+22  152178985702  152178985912    0.0      1.0  \n",
       "0  2.315844e+22  2.315844e+22  152178985912  152178986124    0.0      1.0  \n",
       "0  2.315844e+22  2.315844e+22  152178986124  152178986337    0.0      1.0  \n",
       "0  2.315844e+22  2.315844e+22  152178986337  152178986549    0.0      1.0  \n",
       "0  2.315844e+22  2.315844e+22  152178986549  152178986762    0.0      1.0  \n",
       "\n",
       "[5 rows x 82 columns]"
      ]
     },
     "execution_count": 9,
     "metadata": {},
     "output_type": "execute_result"
    }
   ],
   "source": [
    "# putting time stamps at the end\n",
    "cols = list(df_main.columns.values) #Make a list of all of the columns in the df\n",
    "cols.pop(cols.index('ts_start')) #Remove b from list\n",
    "cols.pop(cols.index('ts_end')) #Remove x from list\n",
    "cols.pop(cols.index('label')) # remove label\n",
    "cols.pop(cols.index('file_id'))  # remove file_id\n",
    "df_main = df_main[cols+['ts_start','ts_end', 'label' , 'file_id']]\n",
    "df_main.head()"
   ]
  },
  {
   "cell_type": "code",
   "execution_count": 10,
   "metadata": {},
   "outputs": [
    {
     "name": "stdout",
     "output_type": "stream",
     "text": [
      "no of pts in test file  (606, 82)\n",
      "remaining pts for training and testing  (2874, 82)\n"
     ]
    },
    {
     "data": {
      "text/plain": [
       "0.0    558\n",
       "1.0     29\n",
       "2.0     19\n",
       "Name: label, dtype: int64"
      ]
     },
     "execution_count": 10,
     "metadata": {},
     "output_type": "execute_result"
    }
   ],
   "source": [
    "df_main_copy = df_main.copy()\n",
    "df_main = df_main_copy\n",
    "\n",
    "testdf_16 = df_main[df_main.file_id == 18]    # taking out 16th file for testing purpose seperately \n",
    "print(\"no of pts in test file \" , testdf_16.shape)\n",
    "\n",
    "df_main = df_main[df_main.file_id != 18]\n",
    "print(\"remaining pts for training and testing \" , df_main.shape )\n",
    "\n",
    "testdf_16['label'].value_counts()"
   ]
  },
  {
   "cell_type": "code",
   "execution_count": 11,
   "metadata": {},
   "outputs": [
    {
     "name": "stderr",
     "output_type": "stream",
     "text": [
      "C:\\Users\\Sudhanva Kote\\Anaconda3\\lib\\site-packages\\ipykernel_launcher.py:1: SettingWithCopyWarning: \n",
      "A value is trying to be set on a copy of a slice from a DataFrame.\n",
      "Try using .loc[row_indexer,col_indexer] = value instead\n",
      "\n",
      "See the caveats in the documentation: http://pandas.pydata.org/pandas-docs/stable/indexing.html#indexing-view-versus-copy\n",
      "  \"\"\"Entry point for launching an IPython kernel.\n",
      "C:\\Users\\Sudhanva Kote\\Anaconda3\\lib\\site-packages\\ipykernel_launcher.py:2: SettingWithCopyWarning: \n",
      "A value is trying to be set on a copy of a slice from a DataFrame.\n",
      "Try using .loc[row_indexer,col_indexer] = value instead\n",
      "\n",
      "See the caveats in the documentation: http://pandas.pydata.org/pandas-docs/stable/indexing.html#indexing-view-versus-copy\n",
      "  \n",
      "C:\\Users\\Sudhanva Kote\\Anaconda3\\lib\\site-packages\\ipykernel_launcher.py:3: SettingWithCopyWarning: \n",
      "A value is trying to be set on a copy of a slice from a DataFrame.\n",
      "Try using .loc[row_indexer,col_indexer] = value instead\n",
      "\n",
      "See the caveats in the documentation: http://pandas.pydata.org/pandas-docs/stable/indexing.html#indexing-view-versus-copy\n",
      "  This is separate from the ipykernel package so we can avoid doing imports until\n",
      "C:\\Users\\Sudhanva Kote\\Anaconda3\\lib\\site-packages\\sklearn\\preprocessing\\data.py:180: UserWarning: Numerical issues were encountered when centering the data and might not be solved. Dataset may contain too large values. You may need to prescale your features.\n",
      "  warnings.warn(\"Numerical issues were encountered \"\n",
      "C:\\Users\\Sudhanva Kote\\Anaconda3\\lib\\site-packages\\ipykernel_launcher.py:5: SettingWithCopyWarning: \n",
      "A value is trying to be set on a copy of a slice from a DataFrame.\n",
      "Try using .loc[row_indexer,col_indexer] = value instead\n",
      "\n",
      "See the caveats in the documentation: http://pandas.pydata.org/pandas-docs/stable/indexing.html#indexing-view-versus-copy\n",
      "  \"\"\"\n",
      "C:\\Users\\Sudhanva Kote\\Anaconda3\\lib\\site-packages\\sklearn\\preprocessing\\data.py:180: UserWarning: Numerical issues were encountered when centering the data and might not be solved. Dataset may contain too large values. You may need to prescale your features.\n",
      "  warnings.warn(\"Numerical issues were encountered \"\n",
      "C:\\Users\\Sudhanva Kote\\Anaconda3\\lib\\site-packages\\ipykernel_launcher.py:6: SettingWithCopyWarning: \n",
      "A value is trying to be set on a copy of a slice from a DataFrame.\n",
      "Try using .loc[row_indexer,col_indexer] = value instead\n",
      "\n",
      "See the caveats in the documentation: http://pandas.pydata.org/pandas-docs/stable/indexing.html#indexing-view-versus-copy\n",
      "  \n",
      "C:\\Users\\Sudhanva Kote\\Anaconda3\\lib\\site-packages\\sklearn\\preprocessing\\data.py:180: UserWarning: Numerical issues were encountered when centering the data and might not be solved. Dataset may contain too large values. You may need to prescale your features.\n",
      "  warnings.warn(\"Numerical issues were encountered \"\n",
      "C:\\Users\\Sudhanva Kote\\Anaconda3\\lib\\site-packages\\ipykernel_launcher.py:7: SettingWithCopyWarning: \n",
      "A value is trying to be set on a copy of a slice from a DataFrame.\n",
      "Try using .loc[row_indexer,col_indexer] = value instead\n",
      "\n",
      "See the caveats in the documentation: http://pandas.pydata.org/pandas-docs/stable/indexing.html#indexing-view-versus-copy\n",
      "  import sys\n"
     ]
    },
    {
     "data": {
      "text/html": [
       "<div>\n",
       "<style scoped>\n",
       "    .dataframe tbody tr th:only-of-type {\n",
       "        vertical-align: middle;\n",
       "    }\n",
       "\n",
       "    .dataframe tbody tr th {\n",
       "        vertical-align: top;\n",
       "    }\n",
       "\n",
       "    .dataframe thead th {\n",
       "        text-align: right;\n",
       "    }\n",
       "</style>\n",
       "<table border=\"1\" class=\"dataframe\">\n",
       "  <thead>\n",
       "    <tr style=\"text-align: right;\">\n",
       "      <th></th>\n",
       "      <th>mean_ax</th>\n",
       "      <th>mean_ay</th>\n",
       "      <th>mean_az</th>\n",
       "      <th>mean_gx</th>\n",
       "      <th>mean_gy</th>\n",
       "      <th>mean_gz</th>\n",
       "      <th>sd_ax</th>\n",
       "      <th>sd_ay</th>\n",
       "      <th>sd_az</th>\n",
       "      <th>sd_gx</th>\n",
       "      <th>...</th>\n",
       "      <th>fft_ax</th>\n",
       "      <th>fft_ay</th>\n",
       "      <th>fft_az</th>\n",
       "      <th>sp_ax</th>\n",
       "      <th>sp_ay</th>\n",
       "      <th>sp_az</th>\n",
       "      <th>ts_start</th>\n",
       "      <th>ts_end</th>\n",
       "      <th>label</th>\n",
       "      <th>file_id</th>\n",
       "    </tr>\n",
       "  </thead>\n",
       "  <tbody>\n",
       "    <tr>\n",
       "      <th>0</th>\n",
       "      <td>-0.333256</td>\n",
       "      <td>-0.529265</td>\n",
       "      <td>9.790426</td>\n",
       "      <td>0.001520</td>\n",
       "      <td>-0.000742</td>\n",
       "      <td>-0.004106</td>\n",
       "      <td>0.242658</td>\n",
       "      <td>0.162682</td>\n",
       "      <td>0.286165</td>\n",
       "      <td>0.002502</td>\n",
       "      <td>...</td>\n",
       "      <td>0.0</td>\n",
       "      <td>0.0</td>\n",
       "      <td>0.0</td>\n",
       "      <td>-1.284695</td>\n",
       "      <td>-1.284695</td>\n",
       "      <td>-1.284695</td>\n",
       "      <td>152178985702</td>\n",
       "      <td>152178985912</td>\n",
       "      <td>0.0</td>\n",
       "      <td>1.0</td>\n",
       "    </tr>\n",
       "    <tr>\n",
       "      <th>0</th>\n",
       "      <td>-0.422345</td>\n",
       "      <td>-0.421185</td>\n",
       "      <td>9.919289</td>\n",
       "      <td>0.005632</td>\n",
       "      <td>-0.011685</td>\n",
       "      <td>-0.034437</td>\n",
       "      <td>0.254251</td>\n",
       "      <td>0.158947</td>\n",
       "      <td>0.201366</td>\n",
       "      <td>0.007812</td>\n",
       "      <td>...</td>\n",
       "      <td>0.0</td>\n",
       "      <td>0.0</td>\n",
       "      <td>0.0</td>\n",
       "      <td>-1.284691</td>\n",
       "      <td>-1.284691</td>\n",
       "      <td>-1.284691</td>\n",
       "      <td>152178985912</td>\n",
       "      <td>152178986124</td>\n",
       "      <td>0.0</td>\n",
       "      <td>1.0</td>\n",
       "    </tr>\n",
       "    <tr>\n",
       "      <th>0</th>\n",
       "      <td>-0.312917</td>\n",
       "      <td>-0.081383</td>\n",
       "      <td>9.855358</td>\n",
       "      <td>0.006088</td>\n",
       "      <td>-0.000170</td>\n",
       "      <td>-0.020531</td>\n",
       "      <td>0.279257</td>\n",
       "      <td>0.514140</td>\n",
       "      <td>0.223400</td>\n",
       "      <td>0.006141</td>\n",
       "      <td>...</td>\n",
       "      <td>0.0</td>\n",
       "      <td>0.0</td>\n",
       "      <td>0.0</td>\n",
       "      <td>-1.284687</td>\n",
       "      <td>-1.284687</td>\n",
       "      <td>-1.284687</td>\n",
       "      <td>152178986124</td>\n",
       "      <td>152178986337</td>\n",
       "      <td>0.0</td>\n",
       "      <td>1.0</td>\n",
       "    </tr>\n",
       "    <tr>\n",
       "      <th>0</th>\n",
       "      <td>-0.374978</td>\n",
       "      <td>0.672824</td>\n",
       "      <td>9.570090</td>\n",
       "      <td>0.008233</td>\n",
       "      <td>-0.016506</td>\n",
       "      <td>-0.037798</td>\n",
       "      <td>0.235341</td>\n",
       "      <td>0.213451</td>\n",
       "      <td>0.271166</td>\n",
       "      <td>0.013928</td>\n",
       "      <td>...</td>\n",
       "      <td>0.0</td>\n",
       "      <td>0.0</td>\n",
       "      <td>0.0</td>\n",
       "      <td>-1.284683</td>\n",
       "      <td>-1.284683</td>\n",
       "      <td>-1.284683</td>\n",
       "      <td>152178986337</td>\n",
       "      <td>152178986549</td>\n",
       "      <td>0.0</td>\n",
       "      <td>1.0</td>\n",
       "    </tr>\n",
       "    <tr>\n",
       "      <th>0</th>\n",
       "      <td>-0.313581</td>\n",
       "      <td>0.429496</td>\n",
       "      <td>9.818923</td>\n",
       "      <td>0.000324</td>\n",
       "      <td>-0.010486</td>\n",
       "      <td>-0.039492</td>\n",
       "      <td>0.153429</td>\n",
       "      <td>0.272872</td>\n",
       "      <td>0.344815</td>\n",
       "      <td>0.010959</td>\n",
       "      <td>...</td>\n",
       "      <td>0.0</td>\n",
       "      <td>0.0</td>\n",
       "      <td>0.0</td>\n",
       "      <td>-1.284679</td>\n",
       "      <td>-1.284679</td>\n",
       "      <td>-1.284679</td>\n",
       "      <td>152178986549</td>\n",
       "      <td>152178986762</td>\n",
       "      <td>0.0</td>\n",
       "      <td>1.0</td>\n",
       "    </tr>\n",
       "  </tbody>\n",
       "</table>\n",
       "<p>5 rows × 82 columns</p>\n",
       "</div>"
      ],
      "text/plain": [
       "    mean_ax   mean_ay   mean_az   mean_gx   mean_gy   mean_gz     sd_ax  \\\n",
       "0 -0.333256 -0.529265  9.790426  0.001520 -0.000742 -0.004106  0.242658   \n",
       "0 -0.422345 -0.421185  9.919289  0.005632 -0.011685 -0.034437  0.254251   \n",
       "0 -0.312917 -0.081383  9.855358  0.006088 -0.000170 -0.020531  0.279257   \n",
       "0 -0.374978  0.672824  9.570090  0.008233 -0.016506 -0.037798  0.235341   \n",
       "0 -0.313581  0.429496  9.818923  0.000324 -0.010486 -0.039492  0.153429   \n",
       "\n",
       "      sd_ay     sd_az     sd_gx  ...  fft_ax  fft_ay  fft_az     sp_ax  \\\n",
       "0  0.162682  0.286165  0.002502  ...     0.0     0.0     0.0 -1.284695   \n",
       "0  0.158947  0.201366  0.007812  ...     0.0     0.0     0.0 -1.284691   \n",
       "0  0.514140  0.223400  0.006141  ...     0.0     0.0     0.0 -1.284687   \n",
       "0  0.213451  0.271166  0.013928  ...     0.0     0.0     0.0 -1.284683   \n",
       "0  0.272872  0.344815  0.010959  ...     0.0     0.0     0.0 -1.284679   \n",
       "\n",
       "      sp_ay     sp_az      ts_start        ts_end  label  file_id  \n",
       "0 -1.284695 -1.284695  152178985702  152178985912    0.0      1.0  \n",
       "0 -1.284691 -1.284691  152178985912  152178986124    0.0      1.0  \n",
       "0 -1.284687 -1.284687  152178986124  152178986337    0.0      1.0  \n",
       "0 -1.284683 -1.284683  152178986337  152178986549    0.0      1.0  \n",
       "0 -1.284679 -1.284679  152178986549  152178986762    0.0      1.0  \n",
       "\n",
       "[5 rows x 82 columns]"
      ]
     },
     "execution_count": 11,
     "metadata": {},
     "output_type": "execute_result"
    }
   ],
   "source": [
    "df_main['fft_ax'] = preprocessing.scale(df_main['fft_ax'])\n",
    "df_main['fft_ay'] = preprocessing.scale(df_main['fft_ay'])\n",
    "df_main['fft_az'] = preprocessing.scale(df_main['fft_az'])\n",
    "\n",
    "df_main['sp_ax'] = preprocessing.scale(df_main['sp_ax'])\n",
    "df_main['sp_ay'] = preprocessing.scale(df_main['sp_ay'])\n",
    "df_main['sp_az'] = preprocessing.scale(df_main['sp_az'])\n",
    "df_main.head()"
   ]
  },
  {
   "cell_type": "markdown",
   "metadata": {},
   "source": [
    "## dividing data into feature matrix and a target vector"
   ]
  },
  {
   "cell_type": "code",
   "execution_count": 14,
   "metadata": {},
   "outputs": [],
   "source": [
    "data = np.array(df_main)\n",
    "\n",
    "x = data[:,0:-4]\n",
    "y = data[:,-2]\n",
    "y = y.astype(int)"
   ]
  },
  {
   "cell_type": "code",
   "execution_count": 15,
   "metadata": {},
   "outputs": [
    {
     "name": "stdout",
     "output_type": "stream",
     "text": [
      "(2874, 78)\n"
     ]
    },
    {
     "data": {
      "text/plain": [
       "(2874, 1)"
      ]
     },
     "execution_count": 15,
     "metadata": {},
     "output_type": "execute_result"
    }
   ],
   "source": [
    "#y_train\n",
    "print(x.shape)\n",
    "y.shape"
   ]
  },
  {
   "cell_type": "code",
   "execution_count": null,
   "metadata": {},
   "outputs": [],
   "source": []
  },
  {
   "cell_type": "code",
   "execution_count": 82,
   "metadata": {},
   "outputs": [],
   "source": [
    "#df_main.isnull().any()"
   ]
  },
  {
   "cell_type": "markdown",
   "metadata": {},
   "source": [
    "## applying pca on data to visualize it , coln std the feature matrix"
   ]
  },
  {
   "cell_type": "code",
   "execution_count": 16,
   "metadata": {},
   "outputs": [
    {
     "name": "stdout",
     "output_type": "stream",
     "text": [
      "(2874, 78)\n"
     ]
    },
    {
     "name": "stderr",
     "output_type": "stream",
     "text": [
      "C:\\Users\\Sudhanva Kote\\Anaconda3\\lib\\site-packages\\sklearn\\utils\\validation.py:595: DataConversionWarning: Data with input dtype object was converted to float64 by StandardScaler.\n",
      "  warnings.warn(msg, DataConversionWarning)\n",
      "C:\\Users\\Sudhanva Kote\\Anaconda3\\lib\\site-packages\\sklearn\\utils\\validation.py:595: DataConversionWarning: Data with input dtype object was converted to float64 by StandardScaler.\n",
      "  warnings.warn(msg, DataConversionWarning)\n"
     ]
    }
   ],
   "source": [
    "# Data-preprocessing: Standardizing the data matrix 'x'\n",
    "\n",
    "from sklearn.preprocessing import StandardScaler\n",
    "standardized_data = StandardScaler().fit_transform(x)\n",
    "print(standardized_data.shape)\n",
    "\n",
    "# coln std our feature matrix \n",
    "\n",
    "x = standardized_data"
   ]
  },
  {
   "cell_type": "code",
   "execution_count": 22,
   "metadata": {},
   "outputs": [
    {
     "name": "stdout",
     "output_type": "stream",
     "text": [
      "0 -0.08795495857710099\n",
      "1 0.6665643035770155\n",
      "2 -0.11066072011773401\n",
      "3 -0.1729390741995258\n",
      "4 0.09843802750718127\n",
      "5 -0.03002501115739615\n",
      "6 -0.24724274400130694\n",
      "7 -0.7751105994204613\n",
      "8 -0.4861504114978473\n",
      "9 -0.7361569768013048\n",
      "10 -1.2947765089424113\n",
      "11 -1.0800993384809177\n",
      "12 0.20022087703693628\n",
      "13 1.044876717118444\n",
      "14 0.3418811376863792\n",
      "15 0.595574683334712\n",
      "16 1.3109149465090082\n",
      "17 0.8318445389768696\n",
      "18 0.0016188626430745023\n",
      "19 0.16330212283841408\n",
      "20 -0.4831742637409531\n",
      "21 -0.6964040415592261\n",
      "22 -1.000031089965939\n",
      "23 -0.8788263480958879\n",
      "24 -0.33688795384509984\n",
      "25 -0.5129494934374735\n",
      "26 -0.3870283954186971\n",
      "27 -0.32965668631211914\n",
      "28 -0.7107890975625121\n",
      "29 -0.4806201632878509\n",
      "30 -0.03538650153758354\n",
      "31 0.4867838631995562\n",
      "32 0.4062984071560924\n",
      "33 -0.1976192374835448\n",
      "34 -0.08592243208261559\n",
      "35 -0.04400250143214375\n",
      "36 0.1923130816883656\n",
      "37 0.7872106517854573\n",
      "38 0.18157393976460334\n",
      "39 0.7515734599384231\n",
      "40 0.9451619055962188\n",
      "41 0.5045665396216188\n",
      "42 -0.03538650153758354\n",
      "43 0.4867838631995562\n",
      "44 0.4062984071560924\n",
      "45 -0.1976192374835448\n",
      "46 -0.08592243208261559\n",
      "47 -0.04400250143214375\n",
      "48 -0.28082845456105193\n",
      "49 0.4386846424222779\n",
      "50 -0.30518744151439764\n",
      "51 -0.7526255171528133\n",
      "52 -0.9648972336299672\n",
      "53 -0.5785167127856399\n",
      "54 -0.30131236814485957\n",
      "55 -0.7562705944139914\n",
      "56 -0.43623381484313123\n",
      "57 -0.8043310104708817\n",
      "58 -1.2910153613790876\n",
      "59 -1.0606776220166472\n",
      "60 0.530950331563972\n",
      "61 1.1522013156885667\n",
      "62 -0.45644592549414126\n",
      "63 0.5985047267768849\n",
      "64 2.470856448712583\n",
      "65 0.5581406671456337\n",
      "66 -0.48125547057119317\n",
      "67 -0.4751049743499906\n",
      "68 -0.40095535091285783\n",
      "69 -0.5709985846658356\n",
      "70 -0.7054582767254508\n",
      "71 -0.7431453768198018\n",
      "72 0.0\n",
      "73 0.0\n",
      "74 0.0\n",
      "75 -1.2846948719072946\n",
      "76 -1.2846948625100931\n",
      "77 -1.2846948577196828\n"
     ]
    }
   ],
   "source": [
    "for key1,val1 in enumerate(x[0]):\n",
    "    print(key1,val1)"
   ]
  },
  {
   "cell_type": "code",
   "execution_count": 17,
   "metadata": {},
   "outputs": [],
   "source": [
    "# initializing the pca\n",
    "\n",
    "from sklearn import decomposition\n",
    "pca = decomposition.PCA()\n"
   ]
  },
  {
   "cell_type": "code",
   "execution_count": 18,
   "metadata": {},
   "outputs": [
    {
     "name": "stdout",
     "output_type": "stream",
     "text": [
      "shape of pca_reduced.shape =  (2874, 2)\n"
     ]
    }
   ],
   "source": [
    "# configuring the parameteres\n",
    "# the number of components = 2\n",
    "pca.n_components = 2     # so as we wnt top two eigen vectors we pass 2 here\n",
    "pca_data = pca.fit_transform(x)  # note tht sampled_data has been standardized already\n",
    "\n",
    "# pca_reduced will contain the 2-d projects of simple data\n",
    "print(\"shape of pca_reduced.shape = \", pca_data.shape)\n"
   ]
  },
  {
   "cell_type": "code",
   "execution_count": 19,
   "metadata": {},
   "outputs": [
    {
     "name": "stderr",
     "output_type": "stream",
     "text": [
      "C:\\Users\\Sudhanva Kote\\Anaconda3\\lib\\site-packages\\seaborn\\axisgrid.py:230: UserWarning: The `size` paramter has been renamed to `height`; please update your code.\n",
      "  warnings.warn(msg, UserWarning)\n"
     ]
    },
    {
     "data": {
      "image/png": "[encoded data removed]",
      "text/plain": [
       "<Figure size 483.875x432 with 1 Axes>"
      ]
     },
     "metadata": {
      "needs_background": "light"
     },
     "output_type": "display_data"
    }
   ],
   "source": [
    "# attaching the label for each 2-d data point \n",
    "import seaborn as sn\n",
    "\n",
    "#print(pca_data.shape , \" \" , y.shape)\n",
    "\n",
    "pca_data = np.hstack((pca_data, y))\n",
    "\n",
    "# creating a new data fram which help us in ploting the result data\n",
    "pca_df = pd.DataFrame(data=pca_data, columns=(\"1st_principal\", \"2nd_principal\", \"label\"))\n",
    "sn.FacetGrid(pca_df, hue=\"label\", size=6).map(plt.scatter, '1st_principal', '2nd_principal').add_legend()\n",
    "plt.show()\n",
    "\n",
    "# https://scipython.com/book/chapter-6-numpy/examples/vstack-and-hstack/"
   ]
  },
  {
   "cell_type": "markdown",
   "metadata": {},
   "source": [
    "### applying T SNE on dataset for better visualization of data"
   ]
  },
  {
   "cell_type": "code",
   "execution_count": 20,
   "metadata": {},
   "outputs": [
    {
     "name": "stderr",
     "output_type": "stream",
     "text": [
      "C:\\Users\\Sudhanva Kote\\Anaconda3\\lib\\site-packages\\seaborn\\axisgrid.py:230: UserWarning: The `size` paramter has been renamed to `height`; please update your code.\n",
      "  warnings.warn(msg, UserWarning)\n"
     ]
    },
    {
     "data": {
      "image/png": "[encoded data removed]",
      "text/plain": [
       "<Figure size 483.875x432 with 1 Axes>"
      ]
     },
     "metadata": {
      "needs_background": "light"
     },
     "output_type": "display_data"
    }
   ],
   "source": [
    "# TSNE\n",
    "\n",
    "from sklearn.manifold import TSNE\n",
    "\n",
    "model = TSNE(n_components=2, random_state=0)\n",
    "\n",
    "tsne_data = model.fit_transform(x)\n",
    "\n",
    "# creating a new data frame which help us in ploting the result data\n",
    "tsne_data = np.hstack((tsne_data, y))\n",
    "tsne_df = pd.DataFrame(data=tsne_data, columns=(\"Dim_1\", \"Dim_2\", \"label\"))\n",
    "\n",
    "# Ploting the result of tsne\n",
    "sn.FacetGrid(tsne_df, hue=\"label\", size=6).map(plt.scatter, 'Dim_1', 'Dim_2').add_legend()\n",
    "plt.show()"
   ]
  },
  {
   "cell_type": "markdown",
   "metadata": {},
   "source": [
    " ### balancing the data by upsampling & downsampling method : SMOTE + ENN"
   ]
  },
  {
   "cell_type": "code",
   "execution_count": 21,
   "metadata": {},
   "outputs": [
    {
     "name": "stdout",
     "output_type": "stream",
     "text": [
      "Automatically created module for IPython interactive environment\n"
     ]
    },
    {
     "name": "stderr",
     "output_type": "stream",
     "text": [
      "C:\\Users\\Sudhanva Kote\\Anaconda3\\lib\\site-packages\\sklearn\\utils\\validation.py:761: DataConversionWarning: A column-vector y was passed when a 1d array was expected. Please change the shape of y to (n_samples, ), for example using ravel().\n",
      "  y = column_or_1d(y, warn=True)\n"
     ]
    },
    {
     "data": {
      "image/png": "[encoded data removed]",
      "text/plain": [
       "<Figure size 432x288 with 2 Axes>"
      ]
     },
     "metadata": {
      "needs_background": "light"
     },
     "output_type": "display_data"
    }
   ],
   "source": [
    "import matplotlib.pyplot as plt\n",
    "from sklearn.datasets import make_classification\n",
    "from sklearn.decomposition import PCA\n",
    "\n",
    "from imblearn.combine import SMOTEENN\n",
    "from imblearn.over_sampling import SMOTE\n",
    "from imblearn.ensemble import BalanceCascade\n",
    "\n",
    "print(__doc__)\n",
    "\n",
    "# Generate the dataset\n",
    "#X, y = make_classification(n_classes=2, class_sep=2, weights=[0.1, 0.9],\n",
    "#                           n_informative=3, n_redundant=1, flip_y=0,\n",
    "#                           n_features=20, n_clusters_per_class=1,\n",
    "#                           n_samples=100, random_state=10)\n",
    "\n",
    "# Instanciate a PCA object for the sake of easy visualisation\n",
    "pca = PCA(n_components=2)\n",
    "# Fit and transform x to visualise inside a 2D feature space\n",
    "X_vis = pca.fit_transform(x)\n",
    "\n",
    "# Apply SMOTE + ENN\n",
    "sm = SMOTE(k_neighbors = 5 , kind='svm')\n",
    "X_resampled, y_resampled = sm.fit_sample(x,y)\n",
    "X_res_vis = pca.transform(X_resampled)\n",
    "\n",
    "# Two subplots, unpack the axes array immediately\n",
    "f, (ax1, ax2) = plt.subplots(1, 2)\n",
    "\n",
    "#print(X_vis.shape, \" \" , X_res_vis.shape , \" \" , y.shape , \" \" , y_resampled.shape)\n",
    "    \n",
    "y = y.reshape(y.shape[0],)\n",
    "#print(y_resampled)\n",
    "\n",
    "c0 = ax1.scatter(X_vis[y == 0, 0], X_vis[y == 0, 1], label=\"Class #0 : no pothole\",alpha=0.5)\n",
    "c1 = ax1.scatter(X_vis[y == 1, 0], X_vis[y == 1, 1], label=\"Class #1 : pothole\",alpha=0.5)\n",
    "ax1.set_title('Original set')\n",
    "\n",
    "ax2.scatter(X_res_vis[y_resampled == 0, 0], X_res_vis[y_resampled == 0, 1],label=\"Class #0 : no pothole\", alpha=0.5)\n",
    "ax2.scatter(X_res_vis[y_resampled == 1, 0], X_res_vis[y_resampled == 1, 1],label=\"Class #1 : pothole\", alpha=0.5)\n",
    "ax2.set_title('SMOTE + ENN')\n",
    "\n",
    "# make nice plotting\n",
    "for ax in (ax1, ax2):\n",
    "    ax.spines['top'].set_visible(False)\n",
    "    ax.spines['right'].set_visible(False)\n",
    "    ax.get_xaxis().tick_bottom()\n",
    "    ax.get_yaxis().tick_left()\n",
    "    ax.spines['left'].set_position(('outward', 10))\n",
    "    ax.spines['bottom'].set_position(('outward', 10))\n",
    "    ax.set_xlim([-6, 8])\n",
    "    ax.set_ylim([-6, 6])\n",
    "\n",
    "f.legend((c0, c1), ('Class #0 : no pothole', 'Class #1 : pothole'), loc='lower center',\n",
    "         ncol=2, labelspacing=0.)\n",
    "plt.tight_layout(pad=3)\n",
    "plt.show()\n",
    "\n"
   ]
  },
  {
   "cell_type": "code",
   "execution_count": 22,
   "metadata": {},
   "outputs": [
    {
     "name": "stdout",
     "output_type": "stream",
     "text": [
      "[0 1 2] [2597 2597 2597]\n"
     ]
    }
   ],
   "source": [
    "X_resampled.shape\n",
    "y_resampled.shape\n",
    "#y_resampled['label'].value_counts()\n",
    "a,b = np.unique(y_resampled,return_counts=True)\n",
    "print(a,b)"
   ]
  },
  {
   "cell_type": "markdown",
   "metadata": {},
   "source": [
    "## applying Logistic Regression one vs rest for multiclassficaiton"
   ]
  },
  {
   "cell_type": "code",
   "execution_count": 23,
   "metadata": {},
   "outputs": [
    {
     "name": "stderr",
     "output_type": "stream",
     "text": [
      "C:\\Users\\Sudhanva Kote\\Anaconda3\\lib\\site-packages\\sklearn\\linear_model\\logistic.py:433: FutureWarning: Default solver will be changed to 'lbfgs' in 0.22. Specify a solver to silence this warning.\n",
      "  FutureWarning)\n"
     ]
    },
    {
     "name": "stdout",
     "output_type": "stream",
     "text": [
      "89.86529826812058\n",
      "(6232, 78)   (1559, 78)\n"
     ]
    }
   ],
   "source": [
    "#acc_sum = 0\n",
    "#for i in range(100):\n",
    "x_train,x_test,y_train,y_test = train_test_split(X_resampled,y_resampled,test_size = 0.2)\n",
    "\n",
    "model = LogisticRegression(multi_class='ovr')\n",
    "model.fit(x_train,y_train)\n",
    "y_pred = model.predict(x_test)\n",
    "\n",
    "accuracy = accuracy_score(y_pred,y_test) * 100\n",
    "#acc_sum = acc_sum + accuracy\n",
    "print(accuracy)\n",
    "#acc_sum/100\n",
    "print(x_train.shape, \" \", x_test.shape)"
   ]
  },
  {
   "cell_type": "code",
   "execution_count": 25,
   "metadata": {},
   "outputs": [
    {
     "data": {
      "text/plain": [
       "array([[472,  24,  21],\n",
       "       [ 18, 493,  33],\n",
       "       [ 28,  34, 436]], dtype=int64)"
      ]
     },
     "execution_count": 25,
     "metadata": {},
     "output_type": "execute_result"
    }
   ],
   "source": [
    "confusion_matrix(y_test, y_pred)"
   ]
  },
  {
   "cell_type": "markdown",
   "metadata": {},
   "source": [
    "## looking at the most important features in classification task : top 20 features out of 81 features"
   ]
  },
  {
   "cell_type": "code",
   "execution_count": 26,
   "metadata": {},
   "outputs": [
    {
     "name": "stdout",
     "output_type": "stream",
     "text": [
      "[27 15 11 54 23 17 41 28 16 57 21 26 60 52 20 14 48  9 29 36]\n",
      "sd_gx\n",
      "sd_gz\n",
      "min_az\n",
      "min_gx\n",
      "min_gy\n",
      "min_gz\n",
      "max_az\n",
      "max_gx\n",
      "max_gz\n",
      "var_az\n",
      "var_gx\n",
      "var_gy\n",
      "var_gz\n",
      "quant1_ax\n",
      "quant1_gz\n",
      "quant3_ax\n",
      "quant3_gy\n",
      "mad_ax\n",
      "mad_gx\n",
      "skew_ax\n"
     ]
    }
   ],
   "source": [
    "abs_weights = np.fabs(model.coef_) \n",
    "\n",
    "#print(model.coef_.shape)\n",
    "#print(model.coef_)\n",
    "\n",
    "#abs_weights.reshape(78,)\n",
    "\n",
    "arr0 = abs_weights[0,:]\n",
    "arr0.reshape(78,)\n",
    "#print(arr0)\n",
    "#print(arr0.shape)\n",
    "\n",
    "sorted_asc = np.argsort(arr0)\n",
    "#print(sorted_asc)\n",
    "\n",
    "sorted_desc = np.flip(sorted_asc,axis =0)\n",
    "#print(\"sorted arr shape\",sorted_desc.shape)\n",
    "\n",
    "top_15_features = sorted_desc[:20]\n",
    "top = top_15_features.ravel()\n",
    "print(top)\n",
    "\n",
    "features_names = df_main.columns\n",
    "#print(features_names)\n",
    "for i in range(0,79):\n",
    "    if(i in top):\n",
    "        print(features_names[i])\n",
    "    else:\n",
    "        pass"
   ]
  },
  {
   "cell_type": "markdown",
   "metadata": {},
   "source": [
    "### applying svm with rbf kernel for multiclassfn"
   ]
  },
  {
   "cell_type": "code",
   "execution_count": 27,
   "metadata": {},
   "outputs": [
    {
     "name": "stderr",
     "output_type": "stream",
     "text": [
      "C:\\Users\\Sudhanva Kote\\Anaconda3\\lib\\site-packages\\sklearn\\svm\\base.py:196: FutureWarning: The default value of gamma will change from 'auto' to 'scale' in version 0.22 to account better for unscaled features. Set gamma explicitly to 'auto' or 'scale' to avoid this warning.\n",
      "  \"avoid this warning.\", FutureWarning)\n"
     ]
    },
    {
     "data": {
      "text/plain": [
       "0.986529826812059"
      ]
     },
     "execution_count": 27,
     "metadata": {},
     "output_type": "execute_result"
    }
   ],
   "source": [
    "model = SVC(kernel='rbf', C = 10)\n",
    "model.fit(x_train,y_train)\n",
    "y_pred = model.predict(x_test)\n",
    "\n",
    "accuracy_score(y_pred,y_test)"
   ]
  },
  {
   "cell_type": "code",
   "execution_count": 28,
   "metadata": {},
   "outputs": [
    {
     "data": {
      "text/plain": [
       "array([[501,  10,   6],\n",
       "       [  3, 541,   0],\n",
       "       [  2,   0, 496]], dtype=int64)"
      ]
     },
     "execution_count": 28,
     "metadata": {},
     "output_type": "execute_result"
    }
   ],
   "source": [
    "confusion_matrix(y_test, y_pred)"
   ]
  },
  {
   "cell_type": "markdown",
   "metadata": {},
   "source": [
    "### applying svm with default kernel"
   ]
  },
  {
   "cell_type": "code",
   "execution_count": 29,
   "metadata": {},
   "outputs": [],
   "source": [
    "pca = PCA(0.99)"
   ]
  },
  {
   "cell_type": "code",
   "execution_count": 30,
   "metadata": {},
   "outputs": [
    {
     "data": {
      "text/plain": [
       "PCA(copy=True, iterated_power='auto', n_components=0.99, random_state=None,\n",
       "  svd_solver='auto', tol=0.0, whiten=False)"
      ]
     },
     "execution_count": 30,
     "metadata": {},
     "output_type": "execute_result"
    }
   ],
   "source": [
    "pca.fit(x_train)"
   ]
  },
  {
   "cell_type": "code",
   "execution_count": 31,
   "metadata": {},
   "outputs": [],
   "source": [
    "x_trans_train = pca.transform(x_train)\n",
    "x_trans_test = pca.transform(x_test)"
   ]
  },
  {
   "cell_type": "code",
   "execution_count": 32,
   "metadata": {},
   "outputs": [
    {
     "data": {
      "text/plain": [
       "(6232, 35)"
      ]
     },
     "execution_count": 32,
     "metadata": {},
     "output_type": "execute_result"
    }
   ],
   "source": [
    "x_trans_train.shape"
   ]
  },
  {
   "cell_type": "code",
   "execution_count": 33,
   "metadata": {},
   "outputs": [
    {
     "name": "stderr",
     "output_type": "stream",
     "text": [
      "C:\\Users\\Sudhanva Kote\\Anaconda3\\lib\\site-packages\\sklearn\\svm\\base.py:196: FutureWarning: The default value of gamma will change from 'auto' to 'scale' in version 0.22 to account better for unscaled features. Set gamma explicitly to 'auto' or 'scale' to avoid this warning.\n",
      "  \"avoid this warning.\", FutureWarning)\n"
     ]
    },
    {
     "data": {
      "text/plain": [
       "0.9884541372674791"
      ]
     },
     "execution_count": 33,
     "metadata": {},
     "output_type": "execute_result"
    }
   ],
   "source": [
    "model = SVC()\n",
    "model.fit(x_trans_train,y_train)\n",
    "y_pred = model.predict(x_trans_test)\n",
    "\n",
    "accuracy_score(y_pred,y_test)"
   ]
  },
  {
   "cell_type": "code",
   "execution_count": 34,
   "metadata": {},
   "outputs": [
    {
     "data": {
      "text/plain": [
       "array([[506,   7,   4],\n",
       "       [  4, 540,   0],\n",
       "       [  2,   1, 495]], dtype=int64)"
      ]
     },
     "execution_count": 34,
     "metadata": {},
     "output_type": "execute_result"
    }
   ],
   "source": [
    "confusion_matrix(y_test, y_pred)"
   ]
  },
  {
   "cell_type": "markdown",
   "metadata": {},
   "source": [
    "## Applying nerural network for multi classfn"
   ]
  },
  {
   "cell_type": "markdown",
   "metadata": {},
   "source": [
    "### one hot encoding of classes : https://machinelearningmastery.com/multi-class-classification-tutorial-keras-deep-learning-library/"
   ]
  },
  {
   "cell_type": "code",
   "execution_count": 35,
   "metadata": {},
   "outputs": [],
   "source": [
    "\n",
    "from sklearn.preprocessing import LabelEncoder\n",
    "from keras.utils import np_utils\n",
    "\n",
    "# encode class values as integers\n",
    "encoder = LabelEncoder()\n",
    "encoder.fit(y_train)\n",
    "encoded_y_train = encoder.transform(y_train)\n",
    "# convert integers to dummy variables (i.e. one hot encoded)\n",
    "dummy_y_train = np_utils.to_categorical(encoded_y_train)\n",
    "\n",
    "\n",
    "# encode class values as integers\n",
    "encoder = LabelEncoder()\n",
    "encoder.fit(y_test)\n",
    "encoded_y_test = encoder.transform(y_test)\n",
    "# convert integers to dummy variables (i.e. one hot encoded)\n",
    "dummy_y_test = np_utils.to_categorical(encoded_y_test)\n",
    "\n",
    "\n",
    "\n",
    "#print(dummy_y[0:50])\n",
    "\n"
   ]
  },
  {
   "cell_type": "code",
   "execution_count": 47,
   "metadata": {
    "scrolled": true
   },
   "outputs": [
    {
     "ename": "ValueError",
     "evalue": "Input arrays should have the same number of samples as target arrays. Found 5219 input samples and 6232 target samples.",
     "output_type": "error",
     "traceback": [
      "\u001b[1;31m---------------------------------------------------------------------------\u001b[0m",
      "\u001b[1;31mValueError\u001b[0m                                Traceback (most recent call last)",
      "\u001b[1;32m<ipython-input-47-0bf47a9cc077>\u001b[0m in \u001b[0;36m<module>\u001b[1;34m\u001b[0m\n\u001b[0;32m     19\u001b[0m \u001b[1;33m\u001b[0m\u001b[0m\n\u001b[0;32m     20\u001b[0m \u001b[1;31m#train\u001b[0m\u001b[1;33m\u001b[0m\u001b[1;33m\u001b[0m\u001b[1;33m\u001b[0m\u001b[0m\n\u001b[1;32m---> 21\u001b[1;33m \u001b[0mmodel_nn\u001b[0m\u001b[1;33m.\u001b[0m\u001b[0mfit\u001b[0m\u001b[1;33m(\u001b[0m\u001b[0mx_train\u001b[0m\u001b[1;33m,\u001b[0m\u001b[0mdummy_y_train\u001b[0m\u001b[1;33m,\u001b[0m \u001b[0mvalidation_data\u001b[0m\u001b[1;33m=\u001b[0m \u001b[1;33m(\u001b[0m\u001b[0mx_test\u001b[0m\u001b[1;33m,\u001b[0m \u001b[0mdummy_y_test\u001b[0m\u001b[1;33m)\u001b[0m\u001b[1;33m,\u001b[0m \u001b[0mbatch_size\u001b[0m\u001b[1;33m=\u001b[0m \u001b[1;36m50\u001b[0m\u001b[1;33m,\u001b[0m \u001b[0mepochs\u001b[0m\u001b[1;33m=\u001b[0m \u001b[1;36m100\u001b[0m\u001b[1;33m)\u001b[0m\u001b[1;33m\u001b[0m\u001b[1;33m\u001b[0m\u001b[0m\n\u001b[0m\u001b[0;32m     22\u001b[0m \u001b[1;33m\u001b[0m\u001b[0m\n",
      "\u001b[1;32m~\\Anaconda3\\lib\\site-packages\\keras\\engine\\training.py\u001b[0m in \u001b[0;36mfit\u001b[1;34m(self, x, y, batch_size, epochs, verbose, callbacks, validation_split, validation_data, shuffle, class_weight, sample_weight, initial_epoch, steps_per_epoch, validation_steps, validation_freq, max_queue_size, workers, use_multiprocessing, **kwargs)\u001b[0m\n\u001b[0;32m   1087\u001b[0m             \u001b[0msample_weight\u001b[0m\u001b[1;33m=\u001b[0m\u001b[0msample_weight\u001b[0m\u001b[1;33m,\u001b[0m\u001b[1;33m\u001b[0m\u001b[1;33m\u001b[0m\u001b[0m\n\u001b[0;32m   1088\u001b[0m             \u001b[0mclass_weight\u001b[0m\u001b[1;33m=\u001b[0m\u001b[0mclass_weight\u001b[0m\u001b[1;33m,\u001b[0m\u001b[1;33m\u001b[0m\u001b[1;33m\u001b[0m\u001b[0m\n\u001b[1;32m-> 1089\u001b[1;33m             batch_size=batch_size)\n\u001b[0m\u001b[0;32m   1090\u001b[0m \u001b[1;33m\u001b[0m\u001b[0m\n\u001b[0;32m   1091\u001b[0m         \u001b[1;31m# Prepare validation data.\u001b[0m\u001b[1;33m\u001b[0m\u001b[1;33m\u001b[0m\u001b[1;33m\u001b[0m\u001b[0m\n",
      "\u001b[1;32m~\\Anaconda3\\lib\\site-packages\\keras\\engine\\training.py\u001b[0m in \u001b[0;36m_standardize_user_data\u001b[1;34m(self, x, y, sample_weight, class_weight, check_array_lengths, batch_size)\u001b[0m\n\u001b[0;32m    809\u001b[0m             \u001b[1;31m# Check that all arrays have the same length.\u001b[0m\u001b[1;33m\u001b[0m\u001b[1;33m\u001b[0m\u001b[1;33m\u001b[0m\u001b[0m\n\u001b[0;32m    810\u001b[0m             \u001b[1;32mif\u001b[0m \u001b[0mcheck_array_lengths\u001b[0m\u001b[1;33m:\u001b[0m\u001b[1;33m\u001b[0m\u001b[1;33m\u001b[0m\u001b[0m\n\u001b[1;32m--> 811\u001b[1;33m                 \u001b[0mcheck_array_length_consistency\u001b[0m\u001b[1;33m(\u001b[0m\u001b[0mx\u001b[0m\u001b[1;33m,\u001b[0m \u001b[0my\u001b[0m\u001b[1;33m,\u001b[0m \u001b[0msample_weights\u001b[0m\u001b[1;33m)\u001b[0m\u001b[1;33m\u001b[0m\u001b[1;33m\u001b[0m\u001b[0m\n\u001b[0m\u001b[0;32m    812\u001b[0m             \u001b[1;32mif\u001b[0m \u001b[0mself\u001b[0m\u001b[1;33m.\u001b[0m\u001b[0m_is_graph_network\u001b[0m\u001b[1;33m:\u001b[0m\u001b[1;33m\u001b[0m\u001b[1;33m\u001b[0m\u001b[0m\n\u001b[0;32m    813\u001b[0m                 \u001b[1;31m# Additional checks to avoid users mistakenly\u001b[0m\u001b[1;33m\u001b[0m\u001b[1;33m\u001b[0m\u001b[1;33m\u001b[0m\u001b[0m\n",
      "\u001b[1;32m~\\Anaconda3\\lib\\site-packages\\keras\\engine\\training_utils.py\u001b[0m in \u001b[0;36mcheck_array_length_consistency\u001b[1;34m(inputs, targets, weights)\u001b[0m\n\u001b[0;32m    238\u001b[0m                          \u001b[1;34m'the same number of samples as target arrays. '\u001b[0m\u001b[1;33m\u001b[0m\u001b[1;33m\u001b[0m\u001b[0m\n\u001b[0;32m    239\u001b[0m                          \u001b[1;34m'Found '\u001b[0m \u001b[1;33m+\u001b[0m \u001b[0mstr\u001b[0m\u001b[1;33m(\u001b[0m\u001b[0mlist\u001b[0m\u001b[1;33m(\u001b[0m\u001b[0mset_x\u001b[0m\u001b[1;33m)\u001b[0m\u001b[1;33m[\u001b[0m\u001b[1;36m0\u001b[0m\u001b[1;33m]\u001b[0m\u001b[1;33m)\u001b[0m \u001b[1;33m+\u001b[0m \u001b[1;34m' input samples '\u001b[0m\u001b[1;33m\u001b[0m\u001b[1;33m\u001b[0m\u001b[0m\n\u001b[1;32m--> 240\u001b[1;33m                          'and ' + str(list(set_y)[0]) + ' target samples.')\n\u001b[0m\u001b[0;32m    241\u001b[0m     \u001b[1;32mif\u001b[0m \u001b[0mlen\u001b[0m\u001b[1;33m(\u001b[0m\u001b[0mset_w\u001b[0m\u001b[1;33m)\u001b[0m \u001b[1;33m>\u001b[0m \u001b[1;36m1\u001b[0m\u001b[1;33m:\u001b[0m\u001b[1;33m\u001b[0m\u001b[1;33m\u001b[0m\u001b[0m\n\u001b[0;32m    242\u001b[0m         raise ValueError('All sample_weight arrays should have '\n",
      "\u001b[1;31mValueError\u001b[0m: Input arrays should have the same number of samples as target arrays. Found 5219 input samples and 6232 target samples."
     ]
    }
   ],
   "source": [
    "# uncomment following to run neural net\n",
    "\n",
    "acc = []\n",
    "#for i in range(50):\n",
    "x_train,x_test,y_train,y_test = train_test_split(X_resampled,y_resampled,test_size=0.33)\n",
    "#model\n",
    "model_nn = Sequential()\n",
    "model_nn.add(Dense(units=100,activation=\"relu\",input_dim =x_train.shape[1]))\n",
    "model_nn.add(Dropout(0.3))\n",
    "model_nn.add(Dense(units=50,activation=\"relu\"))\n",
    "model_nn.add(Dropout(0.3))\n",
    "model_nn.add(Dense(units=10,activation=\"relu\"))\n",
    "model_nn.add(Dropout(0.3))\n",
    "model_nn.add(Dense(units=3,activation=\"sigmoid\"))       # 3 units for 3 classes\n",
    "#model.add(Dense(units=10,activation=\"softmax\"))\n",
    "\n",
    "#compile\n",
    "model_nn.compile(optimizer='adam',loss=\"categorical_crossentropy\",metrics=[\"accuracy\"])\n",
    "\n",
    "#train\n",
    "model_nn.fit(x_train,dummy_y_train, validation_data= (x_test, dummy_y_test), batch_size= 50, epochs= 100)\n",
    "\n"
   ]
  },
  {
   "cell_type": "code",
   "execution_count": 37,
   "metadata": {},
   "outputs": [
    {
     "data": {
      "text/plain": [
       "0.9839640795381654"
      ]
     },
     "execution_count": 37,
     "metadata": {},
     "output_type": "execute_result"
    }
   ],
   "source": [
    "y_pred = model_nn.predict_classes(x_test)\n",
    "accuracy_score(y_test, y_pred)"
   ]
  },
  {
   "cell_type": "code",
   "execution_count": 38,
   "metadata": {},
   "outputs": [],
   "source": [
    "cnf_mat = confusion_matrix(y_test, y_pred)"
   ]
  },
  {
   "cell_type": "code",
   "execution_count": 39,
   "metadata": {},
   "outputs": [
    {
     "data": {
      "text/plain": [
       "0.983928403893107"
      ]
     },
     "execution_count": 39,
     "metadata": {},
     "output_type": "execute_result"
    }
   ],
   "source": [
    "f1_score(y_test, y_pred, average='weighted')"
   ]
  },
  {
   "cell_type": "code",
   "execution_count": 40,
   "metadata": {},
   "outputs": [
    {
     "data": {
      "image/png": "[encoded data removed]",
      "text/plain": [
       "<Figure size 576x432 with 2 Axes>"
      ]
     },
     "metadata": {
      "needs_background": "light"
     },
     "output_type": "display_data"
    }
   ],
   "source": [
    "plot_confusion_matrix(cm           =cnf_mat, \n",
    "                      normalize    = True,\n",
    "                      target_names = ['non-potholes', 'potholes', 'others'],\n",
    "                      title        = \"Confusion Matrix\")"
   ]
  },
  {
   "cell_type": "markdown",
   "metadata": {},
   "source": [
    "## saving model "
   ]
  },
  {
   "cell_type": "code",
   "execution_count": 41,
   "metadata": {},
   "outputs": [],
   "source": [
    "import pickle\n",
    "pickle.dump(model,open('model_svm.pkl', 'wb'))"
   ]
  },
  {
   "cell_type": "code",
   "execution_count": 42,
   "metadata": {},
   "outputs": [],
   "source": [
    "loaded_model = pickle.load(open('model_svm.pkl', 'rb'))"
   ]
  },
  {
   "cell_type": "code",
   "execution_count": 43,
   "metadata": {},
   "outputs": [
    {
     "name": "stdout",
     "output_type": "stream",
     "text": [
      "(606, 78)\n"
     ]
    },
    {
     "name": "stderr",
     "output_type": "stream",
     "text": [
      "C:\\Users\\Sudhanva Kote\\Anaconda3\\lib\\site-packages\\sklearn\\utils\\validation.py:595: DataConversionWarning: Data with input dtype object was converted to float64 by StandardScaler.\n",
      "  warnings.warn(msg, DataConversionWarning)\n",
      "C:\\Users\\Sudhanva Kote\\Anaconda3\\lib\\site-packages\\sklearn\\utils\\validation.py:595: DataConversionWarning: Data with input dtype object was converted to float64 by StandardScaler.\n",
      "  warnings.warn(msg, DataConversionWarning)\n"
     ]
    }
   ],
   "source": [
    "data_test = np.array(testdf_16)\n",
    "\n",
    "x = data_test[:,0:-4]\n",
    "y = data_test[:,-2:-1]\n",
    "y = y.astype(int)\n",
    "\n",
    "x.shape\n",
    "y.shape\n",
    "\n",
    "\n",
    "from sklearn.preprocessing import StandardScaler\n",
    "standardized_data = StandardScaler().fit_transform(x)\n",
    "print(standardized_data.shape)\n",
    "\n",
    "# coln std our feature matrix \n",
    "\n",
    "x = standardized_data\n"
   ]
  },
  {
   "cell_type": "code",
   "execution_count": 44,
   "metadata": {},
   "outputs": [
    {
     "ename": "ValueError",
     "evalue": "X.shape[1] = 76 should be equal to 35, the number of features at training time",
     "output_type": "error",
     "traceback": [
      "\u001b[1;31m---------------------------------------------------------------------------\u001b[0m",
      "\u001b[1;31mValueError\u001b[0m                                Traceback (most recent call last)",
      "\u001b[1;32m<ipython-input-44-1eaf4a95d264>\u001b[0m in \u001b[0;36m<module>\u001b[1;34m\u001b[0m\n\u001b[1;32m----> 1\u001b[1;33m \u001b[0mconfusion_matrix\u001b[0m\u001b[1;33m(\u001b[0m\u001b[0my\u001b[0m\u001b[1;33m,\u001b[0m\u001b[0mloaded_model\u001b[0m\u001b[1;33m.\u001b[0m\u001b[0mpredict\u001b[0m\u001b[1;33m(\u001b[0m\u001b[0mx\u001b[0m\u001b[1;33m[\u001b[0m\u001b[1;33m:\u001b[0m\u001b[1;33m,\u001b[0m\u001b[1;33m:\u001b[0m\u001b[1;33m-\u001b[0m\u001b[1;36m2\u001b[0m\u001b[1;33m]\u001b[0m\u001b[1;33m)\u001b[0m\u001b[1;33m)\u001b[0m\u001b[1;33m\u001b[0m\u001b[1;33m\u001b[0m\u001b[0m\n\u001b[0m",
      "\u001b[1;32m~\\Anaconda3\\lib\\site-packages\\sklearn\\svm\\base.py\u001b[0m in \u001b[0;36mpredict\u001b[1;34m(self, X)\u001b[0m\n\u001b[0;32m    574\u001b[0m             \u001b[0mClass\u001b[0m \u001b[0mlabels\u001b[0m \u001b[1;32mfor\u001b[0m \u001b[0msamples\u001b[0m \u001b[1;32min\u001b[0m \u001b[0mX\u001b[0m\u001b[1;33m.\u001b[0m\u001b[1;33m\u001b[0m\u001b[1;33m\u001b[0m\u001b[0m\n\u001b[0;32m    575\u001b[0m         \"\"\"\n\u001b[1;32m--> 576\u001b[1;33m         \u001b[0my\u001b[0m \u001b[1;33m=\u001b[0m \u001b[0msuper\u001b[0m\u001b[1;33m(\u001b[0m\u001b[0mBaseSVC\u001b[0m\u001b[1;33m,\u001b[0m \u001b[0mself\u001b[0m\u001b[1;33m)\u001b[0m\u001b[1;33m.\u001b[0m\u001b[0mpredict\u001b[0m\u001b[1;33m(\u001b[0m\u001b[0mX\u001b[0m\u001b[1;33m)\u001b[0m\u001b[1;33m\u001b[0m\u001b[1;33m\u001b[0m\u001b[0m\n\u001b[0m\u001b[0;32m    577\u001b[0m         \u001b[1;32mreturn\u001b[0m \u001b[0mself\u001b[0m\u001b[1;33m.\u001b[0m\u001b[0mclasses_\u001b[0m\u001b[1;33m.\u001b[0m\u001b[0mtake\u001b[0m\u001b[1;33m(\u001b[0m\u001b[0mnp\u001b[0m\u001b[1;33m.\u001b[0m\u001b[0masarray\u001b[0m\u001b[1;33m(\u001b[0m\u001b[0my\u001b[0m\u001b[1;33m,\u001b[0m \u001b[0mdtype\u001b[0m\u001b[1;33m=\u001b[0m\u001b[0mnp\u001b[0m\u001b[1;33m.\u001b[0m\u001b[0mintp\u001b[0m\u001b[1;33m)\u001b[0m\u001b[1;33m)\u001b[0m\u001b[1;33m\u001b[0m\u001b[1;33m\u001b[0m\u001b[0m\n\u001b[0;32m    578\u001b[0m \u001b[1;33m\u001b[0m\u001b[0m\n",
      "\u001b[1;32m~\\Anaconda3\\lib\\site-packages\\sklearn\\svm\\base.py\u001b[0m in \u001b[0;36mpredict\u001b[1;34m(self, X)\u001b[0m\n\u001b[0;32m    323\u001b[0m         \u001b[0my_pred\u001b[0m \u001b[1;33m:\u001b[0m \u001b[0marray\u001b[0m\u001b[1;33m,\u001b[0m \u001b[0mshape\u001b[0m \u001b[1;33m(\u001b[0m\u001b[0mn_samples\u001b[0m\u001b[1;33m,\u001b[0m\u001b[1;33m)\u001b[0m\u001b[1;33m\u001b[0m\u001b[1;33m\u001b[0m\u001b[0m\n\u001b[0;32m    324\u001b[0m         \"\"\"\n\u001b[1;32m--> 325\u001b[1;33m         \u001b[0mX\u001b[0m \u001b[1;33m=\u001b[0m \u001b[0mself\u001b[0m\u001b[1;33m.\u001b[0m\u001b[0m_validate_for_predict\u001b[0m\u001b[1;33m(\u001b[0m\u001b[0mX\u001b[0m\u001b[1;33m)\u001b[0m\u001b[1;33m\u001b[0m\u001b[1;33m\u001b[0m\u001b[0m\n\u001b[0m\u001b[0;32m    326\u001b[0m         \u001b[0mpredict\u001b[0m \u001b[1;33m=\u001b[0m \u001b[0mself\u001b[0m\u001b[1;33m.\u001b[0m\u001b[0m_sparse_predict\u001b[0m \u001b[1;32mif\u001b[0m \u001b[0mself\u001b[0m\u001b[1;33m.\u001b[0m\u001b[0m_sparse\u001b[0m \u001b[1;32melse\u001b[0m \u001b[0mself\u001b[0m\u001b[1;33m.\u001b[0m\u001b[0m_dense_predict\u001b[0m\u001b[1;33m\u001b[0m\u001b[1;33m\u001b[0m\u001b[0m\n\u001b[0;32m    327\u001b[0m         \u001b[1;32mreturn\u001b[0m \u001b[0mpredict\u001b[0m\u001b[1;33m(\u001b[0m\u001b[0mX\u001b[0m\u001b[1;33m)\u001b[0m\u001b[1;33m\u001b[0m\u001b[1;33m\u001b[0m\u001b[0m\n",
      "\u001b[1;32m~\\Anaconda3\\lib\\site-packages\\sklearn\\svm\\base.py\u001b[0m in \u001b[0;36m_validate_for_predict\u001b[1;34m(self, X)\u001b[0m\n\u001b[0;32m    476\u001b[0m             raise ValueError(\"X.shape[1] = %d should be equal to %d, \"\n\u001b[0;32m    477\u001b[0m                              \u001b[1;34m\"the number of features at training time\"\u001b[0m \u001b[1;33m%\u001b[0m\u001b[1;33m\u001b[0m\u001b[1;33m\u001b[0m\u001b[0m\n\u001b[1;32m--> 478\u001b[1;33m                              (n_features, self.shape_fit_[1]))\n\u001b[0m\u001b[0;32m    479\u001b[0m         \u001b[1;32mreturn\u001b[0m \u001b[0mX\u001b[0m\u001b[1;33m\u001b[0m\u001b[1;33m\u001b[0m\u001b[0m\n\u001b[0;32m    480\u001b[0m \u001b[1;33m\u001b[0m\u001b[0m\n",
      "\u001b[1;31mValueError\u001b[0m: X.shape[1] = 76 should be equal to 35, the number of features at training time"
     ]
    }
   ],
   "source": [
    "confusion_matrix(y,loaded_model.predict(x[:,:-2]))"
   ]
  },
  {
   "cell_type": "code",
   "execution_count": 62,
   "metadata": {},
   "outputs": [
    {
     "data": {
      "text/plain": [
       "array([[540,   7,  11],\n",
       "       [ 15,   7,   7],\n",
       "       [  9,   1,   9]], dtype=int64)"
      ]
     },
     "execution_count": 62,
     "metadata": {},
     "output_type": "execute_result"
    }
   ],
   "source": [
    "from keras.models import load_model\n",
    "\n",
    "model_nn.save('model_nn.h5')\n",
    "\n",
    "model_nn2 = load_model('model_nn.h5')\n",
    "\n",
    "confusion_matrix(y,model_nn2.predict_classes(x[:,:-2]))"
   ]
  },
  {
   "cell_type": "code",
   "execution_count": 60,
   "metadata": {},
   "outputs": [
    {
     "data": {
      "text/plain": [
       "80"
      ]
     },
     "execution_count": 60,
     "metadata": {},
     "output_type": "execute_result"
    }
   ],
   "source": [
    "len(x[1])"
   ]
  },
  {
   "cell_type": "markdown",
   "metadata": {},
   "source": [
    "## converting pandas df to numpy array "
   ]
  },
  {
   "cell_type": "code",
   "execution_count": null,
   "metadata": {},
   "outputs": [],
   "source": [
    "np_array_for_server = df_main.as_matrix()"
   ]
  },
  {
   "cell_type": "code",
   "execution_count": null,
   "metadata": {},
   "outputs": [],
   "source": [
    "np_array_for_serveray_for_server.shape"
   ]
  },
  {
   "cell_type": "code",
   "execution_count": null,
   "metadata": {},
   "outputs": [],
   "source": [
    "np_array_for_server"
   ]
  },
  {
   "cell_type": "code",
   "execution_count": null,
   "metadata": {},
   "outputs": [],
   "source": []
  }
 ],
 "metadata": {
  "kernelspec": {
   "display_name": "Python 3",
   "language": "python",
   "name": "python3"
  },
  "language_info": {
   "codemirror_mode": {
    "name": "ipython",
    "version": 3
   },
   "file_extension": ".py",
   "mimetype": "text/x-python",
   "name": "python",
   "nbconvert_exporter": "python",
   "pygments_lexer": "ipython3",
   "version": "3.7.3"
  }
 },
 "nbformat": 4,
 "nbformat_minor": 2
}
